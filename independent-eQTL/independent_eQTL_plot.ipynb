{
 "cells": [
  {
   "cell_type": "code",
   "execution_count": 1,
   "metadata": {},
   "outputs": [
    {
     "name": "stderr",
     "output_type": "stream",
     "text": [
      "\n",
      "Attaching package: ‘dplyr’\n",
      "\n",
      "\n",
      "The following objects are masked from ‘package:stats’:\n",
      "\n",
      "    filter, lag\n",
      "\n",
      "\n",
      "The following objects are masked from ‘package:base’:\n",
      "\n",
      "    intersect, setdiff, setequal, union\n",
      "\n",
      "\n"
     ]
    }
   ],
   "source": [
    "library(dplyr)\n",
    "library(ggplot2)\n",
    "library(tidyr)"
   ]
  },
  {
   "cell_type": "code",
   "execution_count": 2,
   "metadata": {},
   "outputs": [],
   "source": [
    "#-----------------------------------------------------------\n",
    "#* 与trans-eGene相比大多数cis-eGene都只受单个eQTL调控\n",
    "#-----------------------------------------------------------\n",
    "cis_eGene=data.frame(\n",
    "    num=c(46620,6257,777,200),\n",
    "    type=c(1,2,3,4),\n",
    "    eGene=c('cis','cis','cis','cis')\n",
    ")\n",
    "trans_eGene=data.frame(\n",
    "    num=c(9864,4116,868,685),\n",
    "    type=c(1,2,3,4),\n",
    "    eGene=c('trans','trans','trans','trans')\n",
    ")\n",
    "cis_eGene=cis_eGene %>% mutate(ratio=num/sum(num))\n",
    "trans_eGene=trans_eGene %>% mutate(ratio=num/sum(num))\n",
    "\n",
    "plotData=rbind(cis_eGene,trans_eGene)\n",
    "plotData$type=factor(plotData$type)"
   ]
  },
  {
   "cell_type": "code",
   "execution_count": 3,
   "metadata": {},
   "outputs": [
    {
     "data": {
      "text/html": [
       "15533"
      ],
      "text/latex": [
       "15533"
      ],
      "text/markdown": [
       "15533"
      ],
      "text/plain": [
       "[1] 15533"
      ]
     },
     "metadata": {},
     "output_type": "display_data"
    }
   ],
   "source": [
    "sum(trans_eGene$num)"
   ]
  },
  {
   "cell_type": "code",
   "execution_count": 23,
   "metadata": {},
   "outputs": [
    {
     "data": {
      "text/html": [
       "<strong>png:</strong> 2"
      ],
      "text/latex": [
       "\\textbf{png:} 2"
      ],
      "text/markdown": [
       "**png:** 2"
      ],
      "text/plain": [
       "png \n",
       "  2 "
      ]
     },
     "metadata": {},
     "output_type": "display_data"
    },
    {
     "data": {
      "image/png": "[encoded data removed]",
      "text/plain": [
       "plot without title"
      ]
     },
     "metadata": {
      "image/png": {
       "height": 420,
       "width": 420
      }
     },
     "output_type": "display_data"
    }
   ],
   "source": [
    "#* trans-eGene更多的基因存在多个eQTL调控\n",
    "p=plotData %>% ggplot(\n",
    "    aes(x = eGene, y = ratio, fill = type)\n",
    ") +\n",
    "    geom_bar(stat = \"identity\", position = \"stack\") +\n",
    "    coord_polar(theta = \"y\")\n",
    "pdf(\"cis_trans_QTLCount.pdf\")\n",
    "print(p)\n",
    "dev.off()\n",
    "p"
   ]
  },
  {
   "cell_type": "code",
   "execution_count": 24,
   "metadata": {},
   "outputs": [],
   "source": [
    "#-----------------------------------------------------------\n",
    "#* 与BiasN-Gene相比大多数Bias-eGene都受eQTL调控\n",
    "#-----------------------------------------------------------\n",
    "cis_eGene=data.frame(\n",
    "    num=c(18035,19291),\n",
    "    type=c('bias','bias'),\n",
    "    eGene=c('eGene','noneGene')\n",
    ")\n",
    "trans_eGene=data.frame(\n",
    "    num=c(6018,14903),\n",
    "    type=c('noBias','noBias'),\n",
    "    eGene=c('eGene','noneGene')\n",
    ")\n",
    "cis_eGene=cis_eGene %>% mutate(ratio=num/sum(num))\n",
    "trans_eGene=trans_eGene %>% mutate(ratio=num/sum(num))\n",
    "\n",
    "plotData=rbind(cis_eGene,trans_eGene)\n",
    "plotData$type=factor(plotData$type)"
   ]
  },
  {
   "cell_type": "code",
   "execution_count": 18,
   "metadata": {},
   "outputs": [
    {
     "data": {
      "text/html": [
       "<table class=\"dataframe\">\n",
       "<caption>A data.frame: 4 × 4</caption>\n",
       "<thead>\n",
       "\t<tr><th scope=col>num</th><th scope=col>type</th><th scope=col>eGene</th><th scope=col>ratio</th></tr>\n",
       "\t<tr><th scope=col>&lt;dbl&gt;</th><th scope=col>&lt;fct&gt;</th><th scope=col>&lt;fct&gt;</th><th scope=col>&lt;dbl&gt;</th></tr>\n",
       "</thead>\n",
       "<tbody>\n",
       "\t<tr><td>18035</td><td>bias  </td><td>eGene   </td><td>0.4831753</td></tr>\n",
       "\t<tr><td>19291</td><td>bias  </td><td>noneGene</td><td>0.5168247</td></tr>\n",
       "\t<tr><td> 6018</td><td>noBias</td><td>eGene   </td><td>0.2876536</td></tr>\n",
       "\t<tr><td>14903</td><td>noBias</td><td>noneGene</td><td>0.7123464</td></tr>\n",
       "</tbody>\n",
       "</table>\n"
      ],
      "text/latex": [
       "A data.frame: 4 × 4\n",
       "\\begin{tabular}{llll}\n",
       " num & type & eGene & ratio\\\\\n",
       " <dbl> & <fct> & <fct> & <dbl>\\\\\n",
       "\\hline\n",
       "\t 18035 & bias   & eGene    & 0.4831753\\\\\n",
       "\t 19291 & bias   & noneGene & 0.5168247\\\\\n",
       "\t  6018 & noBias & eGene    & 0.2876536\\\\\n",
       "\t 14903 & noBias & noneGene & 0.7123464\\\\\n",
       "\\end{tabular}\n"
      ],
      "text/markdown": [
       "\n",
       "A data.frame: 4 × 4\n",
       "\n",
       "| num &lt;dbl&gt; | type &lt;fct&gt; | eGene &lt;fct&gt; | ratio &lt;dbl&gt; |\n",
       "|---|---|---|---|\n",
       "| 18035 | bias   | eGene    | 0.4831753 |\n",
       "| 19291 | bias   | noneGene | 0.5168247 |\n",
       "|  6018 | noBias | eGene    | 0.2876536 |\n",
       "| 14903 | noBias | noneGene | 0.7123464 |\n",
       "\n"
      ],
      "text/plain": [
       "  num   type   eGene    ratio    \n",
       "1 18035 bias   eGene    0.4831753\n",
       "2 19291 bias   noneGene 0.5168247\n",
       "3  6018 noBias eGene    0.2876536\n",
       "4 14903 noBias noneGene 0.7123464"
      ]
     },
     "metadata": {},
     "output_type": "display_data"
    }
   ],
   "source": [
    "plotData"
   ]
  },
  {
   "cell_type": "code",
   "execution_count": 25,
   "metadata": {},
   "outputs": [
    {
     "data": {
      "text/html": [
       "<strong>png:</strong> 2"
      ],
      "text/latex": [
       "\\textbf{png:} 2"
      ],
      "text/markdown": [
       "**png:** 2"
      ],
      "text/plain": [
       "png \n",
       "  2 "
      ]
     },
     "metadata": {},
     "output_type": "display_data"
    },
    {
     "data": {
      "image/png": "[encoded data removed]",
      "text/plain": [
       "plot without title"
      ]
     },
     "metadata": {
      "image/png": {
       "height": 420,
       "width": 420
      }
     },
     "output_type": "display_data"
    }
   ],
   "source": [
    "p <- plotData %>% ggplot(\n",
    "    aes(x = type, y = ratio, fill = eGene)\n",
    ") +\n",
    "    geom_bar(stat = \"identity\", position = \"stack\") +\n",
    "    coord_polar(theta = \"y\")\n",
    "pdf(\"Bias_eQTL_count.pdf\")\n",
    "print(p)\n",
    "dev.off()\n",
    "p"
   ]
  },
  {
   "cell_type": "code",
   "execution_count": 63,
   "metadata": {},
   "outputs": [],
   "source": [
    "#------------------------------------------------------------\n",
    "#* 统计每个时期，每个eGene包含eQTL(cis和trans)的数目\n",
    "#------------------------------------------------------------\n",
    "All_eGene=read.table(\"All_cis_trans_eGene_eQTLCount.txt\",header=F)\n",
    "colnames(All_eGene)=c(\"stage\",\"eGene\",'eQTLCount')"
   ]
  },
  {
   "cell_type": "code",
   "execution_count": 57,
   "metadata": {},
   "outputs": [
    {
     "data": {
      "text/html": [
       "<table class=\"dataframe\">\n",
       "<caption>A tibble: 6 × 2</caption>\n",
       "<thead>\n",
       "\t<tr><th scope=col>stage</th><th scope=col>meanCount</th></tr>\n",
       "\t<tr><th scope=col>&lt;fct&gt;</th><th scope=col>&lt;dbl&gt;</th></tr>\n",
       "</thead>\n",
       "<tbody>\n",
       "\t<tr><td>0DPA </td><td>1.362502</td></tr>\n",
       "\t<tr><td>12DPA</td><td>1.528010</td></tr>\n",
       "\t<tr><td>16DPA</td><td>1.332407</td></tr>\n",
       "\t<tr><td>20DPA</td><td>1.315515</td></tr>\n",
       "\t<tr><td>4DPA </td><td>1.382324</td></tr>\n",
       "\t<tr><td>8DPA </td><td>1.366920</td></tr>\n",
       "</tbody>\n",
       "</table>\n"
      ],
      "text/latex": [
       "A tibble: 6 × 2\n",
       "\\begin{tabular}{ll}\n",
       " stage & meanCount\\\\\n",
       " <fct> & <dbl>\\\\\n",
       "\\hline\n",
       "\t 0DPA  & 1.362502\\\\\n",
       "\t 12DPA & 1.528010\\\\\n",
       "\t 16DPA & 1.332407\\\\\n",
       "\t 20DPA & 1.315515\\\\\n",
       "\t 4DPA  & 1.382324\\\\\n",
       "\t 8DPA  & 1.366920\\\\\n",
       "\\end{tabular}\n"
      ],
      "text/markdown": [
       "\n",
       "A tibble: 6 × 2\n",
       "\n",
       "| stage &lt;fct&gt; | meanCount &lt;dbl&gt; |\n",
       "|---|---|\n",
       "| 0DPA  | 1.362502 |\n",
       "| 12DPA | 1.528010 |\n",
       "| 16DPA | 1.332407 |\n",
       "| 20DPA | 1.315515 |\n",
       "| 4DPA  | 1.382324 |\n",
       "| 8DPA  | 1.366920 |\n",
       "\n"
      ],
      "text/plain": [
       "  stage meanCount\n",
       "1 0DPA  1.362502 \n",
       "2 12DPA 1.528010 \n",
       "3 16DPA 1.332407 \n",
       "4 20DPA 1.315515 \n",
       "5 4DPA  1.382324 \n",
       "6 8DPA  1.366920 "
      ]
     },
     "metadata": {},
     "output_type": "display_data"
    }
   ],
   "source": [
    "#--------------------------------------------------------\n",
    "#TODO: 每个时期中，每个基因平均受到多少个eQTL调控\n",
    "#--------------------------------------------------------\n",
    "mean_eQTLCount=All_eGene %>% group_by(stage) %>% summarise(meanCount=mean(eQTLCount))\n",
    "mean_eQTLCount"
   ]
  },
  {
   "cell_type": "code",
   "execution_count": 67,
   "metadata": {},
   "outputs": [
    {
     "data": {
      "text/html": [
       "<table class=\"dataframe\">\n",
       "<caption>A grouped_df: 6 × 8</caption>\n",
       "<thead>\n",
       "\t<tr><th scope=col>stage</th><th scope=col>rank1</th><th scope=col>rank2</th><th scope=col>rank3</th><th scope=col>rank4</th><th scope=col>totalGene</th><th scope=col>rankType</th><th scope=col>ratio</th></tr>\n",
       "\t<tr><th scope=col>&lt;fct&gt;</th><th scope=col>&lt;int&gt;</th><th scope=col>&lt;int&gt;</th><th scope=col>&lt;int&gt;</th><th scope=col>&lt;int&gt;</th><th scope=col>&lt;int&gt;</th><th scope=col>&lt;chr&gt;</th><th scope=col>&lt;dbl&gt;</th></tr>\n",
       "</thead>\n",
       "<tbody>\n",
       "\t<tr><td>0DPA </td><td>8079</td><td>1843</td><td>453</td><td>287</td><td>10662</td><td>ratio1</td><td>0.75773776</td></tr>\n",
       "\t<tr><td>0DPA </td><td>8079</td><td>1843</td><td>453</td><td>287</td><td>10662</td><td>ratio2</td><td>0.17285687</td></tr>\n",
       "\t<tr><td>0DPA </td><td>8079</td><td>1843</td><td>453</td><td>287</td><td>10662</td><td>ratio3</td><td>0.04248734</td></tr>\n",
       "\t<tr><td>0DPA </td><td>8079</td><td>1843</td><td>453</td><td>287</td><td>10662</td><td>ratio4</td><td>0.02691803</td></tr>\n",
       "\t<tr><td>12DPA</td><td>8092</td><td>3234</td><td>864</td><td>484</td><td>12674</td><td>ratio1</td><td>0.63847246</td></tr>\n",
       "\t<tr><td>12DPA</td><td>8092</td><td>3234</td><td>864</td><td>484</td><td>12674</td><td>ratio2</td><td>0.25516806</td></tr>\n",
       "</tbody>\n",
       "</table>\n"
      ],
      "text/latex": [
       "A grouped\\_df: 6 × 8\n",
       "\\begin{tabular}{llllllll}\n",
       " stage & rank1 & rank2 & rank3 & rank4 & totalGene & rankType & ratio\\\\\n",
       " <fct> & <int> & <int> & <int> & <int> & <int> & <chr> & <dbl>\\\\\n",
       "\\hline\n",
       "\t 0DPA  & 8079 & 1843 & 453 & 287 & 10662 & ratio1 & 0.75773776\\\\\n",
       "\t 0DPA  & 8079 & 1843 & 453 & 287 & 10662 & ratio2 & 0.17285687\\\\\n",
       "\t 0DPA  & 8079 & 1843 & 453 & 287 & 10662 & ratio3 & 0.04248734\\\\\n",
       "\t 0DPA  & 8079 & 1843 & 453 & 287 & 10662 & ratio4 & 0.02691803\\\\\n",
       "\t 12DPA & 8092 & 3234 & 864 & 484 & 12674 & ratio1 & 0.63847246\\\\\n",
       "\t 12DPA & 8092 & 3234 & 864 & 484 & 12674 & ratio2 & 0.25516806\\\\\n",
       "\\end{tabular}\n"
      ],
      "text/markdown": [
       "\n",
       "A grouped_df: 6 × 8\n",
       "\n",
       "| stage &lt;fct&gt; | rank1 &lt;int&gt; | rank2 &lt;int&gt; | rank3 &lt;int&gt; | rank4 &lt;int&gt; | totalGene &lt;int&gt; | rankType &lt;chr&gt; | ratio &lt;dbl&gt; |\n",
       "|---|---|---|---|---|---|---|---|\n",
       "| 0DPA  | 8079 | 1843 | 453 | 287 | 10662 | ratio1 | 0.75773776 |\n",
       "| 0DPA  | 8079 | 1843 | 453 | 287 | 10662 | ratio2 | 0.17285687 |\n",
       "| 0DPA  | 8079 | 1843 | 453 | 287 | 10662 | ratio3 | 0.04248734 |\n",
       "| 0DPA  | 8079 | 1843 | 453 | 287 | 10662 | ratio4 | 0.02691803 |\n",
       "| 12DPA | 8092 | 3234 | 864 | 484 | 12674 | ratio1 | 0.63847246 |\n",
       "| 12DPA | 8092 | 3234 | 864 | 484 | 12674 | ratio2 | 0.25516806 |\n",
       "\n"
      ],
      "text/plain": [
       "  stage rank1 rank2 rank3 rank4 totalGene rankType ratio     \n",
       "1 0DPA  8079  1843  453   287   10662     ratio1   0.75773776\n",
       "2 0DPA  8079  1843  453   287   10662     ratio2   0.17285687\n",
       "3 0DPA  8079  1843  453   287   10662     ratio3   0.04248734\n",
       "4 0DPA  8079  1843  453   287   10662     ratio4   0.02691803\n",
       "5 12DPA 8092  3234  864   484   12674     ratio1   0.63847246\n",
       "6 12DPA 8092  3234  864   484   12674     ratio2   0.25516806"
      ]
     },
     "metadata": {},
     "output_type": "display_data"
    }
   ],
   "source": [
    "#* 超过4个的都统一的作为4个\n",
    "geneIndependent=All_eGene %>%\n",
    "    group_by(stage) %>%\n",
    "    mutate(n = ifelse(eQTLCount > 4, 4, eQTLCount)) %>%\n",
    "    count(n, name = \"geneCount\") %>%\n",
    "    pivot_wider(\n",
    "        id_cols = stage, names_from = n, values_from = geneCount\n",
    "    )\n",
    "colnames(geneIndependent)=c(\"stage\",'rank1','rank2','rank3','rank4')\n",
    "#* 每个时期对应的基因比例到底有多少\n",
    "geneIndependent %>% mutate(totalGene=rank1+rank2+rank3+rank4) %>%\n",
    "    mutate(\n",
    "        ratio1=rank1/totalGene,\n",
    "        ratio2=rank2/totalGene,\n",
    "        ratio3=rank3/totalGene,\n",
    "        ratio4=rank4/totalGene,\n",
    "    ) %>% pivot_longer(\n",
    "        cols=starts_with('ratio'),\n",
    "        names_to=c(\"rankType\"),\n",
    "        values_to=c('ratio')\n",
    "    ) %>% head()"
   ]
  },
  {
   "cell_type": "code",
   "execution_count": 74,
   "metadata": {},
   "outputs": [
    {
     "data": {
      "text/html": [
       "<table class=\"dataframe\">\n",
       "<caption>A grouped_df: 6 × 9</caption>\n",
       "<thead>\n",
       "\t<tr><th scope=col>stage</th><th scope=col>rank1</th><th scope=col>rank2</th><th scope=col>rank3</th><th scope=col>rank4</th><th scope=col>totalGene</th><th scope=col>rankType</th><th scope=col>ratio</th><th scope=col>ratio2</th></tr>\n",
       "\t<tr><th scope=col>&lt;fct&gt;</th><th scope=col>&lt;int&gt;</th><th scope=col>&lt;int&gt;</th><th scope=col>&lt;int&gt;</th><th scope=col>&lt;int&gt;</th><th scope=col>&lt;int&gt;</th><th scope=col>&lt;chr&gt;</th><th scope=col>&lt;dbl&gt;</th><th scope=col>&lt;dbl&gt;</th></tr>\n",
       "</thead>\n",
       "<tbody>\n",
       "\t<tr><td>0DPA </td><td>8079</td><td>1843</td><td>453</td><td>287</td><td>10662</td><td>ratio1</td><td>0.7577378</td><td>0.2422622</td></tr>\n",
       "\t<tr><td>12DPA</td><td>8092</td><td>3234</td><td>864</td><td>484</td><td>12674</td><td>ratio1</td><td>0.6384725</td><td>0.3615275</td></tr>\n",
       "\t<tr><td>16DPA</td><td>7609</td><td>1482</td><td>360</td><td>266</td><td> 9717</td><td>ratio1</td><td>0.7830606</td><td>0.2169394</td></tr>\n",
       "\t<tr><td>20DPA</td><td>6863</td><td>1194</td><td>330</td><td>237</td><td> 8624</td><td>ratio1</td><td>0.7958024</td><td>0.2041976</td></tr>\n",
       "\t<tr><td>4DPA </td><td>7570</td><td>1730</td><td>456</td><td>314</td><td>10070</td><td>ratio1</td><td>0.7517378</td><td>0.2482622</td></tr>\n",
       "\t<tr><td>8DPA </td><td>7998</td><td>1590</td><td>454</td><td>339</td><td>10381</td><td>ratio1</td><td>0.7704460</td><td>0.2295540</td></tr>\n",
       "</tbody>\n",
       "</table>\n"
      ],
      "text/latex": [
       "A grouped\\_df: 6 × 9\n",
       "\\begin{tabular}{lllllllll}\n",
       " stage & rank1 & rank2 & rank3 & rank4 & totalGene & rankType & ratio & ratio2\\\\\n",
       " <fct> & <int> & <int> & <int> & <int> & <int> & <chr> & <dbl> & <dbl>\\\\\n",
       "\\hline\n",
       "\t 0DPA  & 8079 & 1843 & 453 & 287 & 10662 & ratio1 & 0.7577378 & 0.2422622\\\\\n",
       "\t 12DPA & 8092 & 3234 & 864 & 484 & 12674 & ratio1 & 0.6384725 & 0.3615275\\\\\n",
       "\t 16DPA & 7609 & 1482 & 360 & 266 &  9717 & ratio1 & 0.7830606 & 0.2169394\\\\\n",
       "\t 20DPA & 6863 & 1194 & 330 & 237 &  8624 & ratio1 & 0.7958024 & 0.2041976\\\\\n",
       "\t 4DPA  & 7570 & 1730 & 456 & 314 & 10070 & ratio1 & 0.7517378 & 0.2482622\\\\\n",
       "\t 8DPA  & 7998 & 1590 & 454 & 339 & 10381 & ratio1 & 0.7704460 & 0.2295540\\\\\n",
       "\\end{tabular}\n"
      ],
      "text/markdown": [
       "\n",
       "A grouped_df: 6 × 9\n",
       "\n",
       "| stage &lt;fct&gt; | rank1 &lt;int&gt; | rank2 &lt;int&gt; | rank3 &lt;int&gt; | rank4 &lt;int&gt; | totalGene &lt;int&gt; | rankType &lt;chr&gt; | ratio &lt;dbl&gt; | ratio2 &lt;dbl&gt; |\n",
       "|---|---|---|---|---|---|---|---|---|\n",
       "| 0DPA  | 8079 | 1843 | 453 | 287 | 10662 | ratio1 | 0.7577378 | 0.2422622 |\n",
       "| 12DPA | 8092 | 3234 | 864 | 484 | 12674 | ratio1 | 0.6384725 | 0.3615275 |\n",
       "| 16DPA | 7609 | 1482 | 360 | 266 |  9717 | ratio1 | 0.7830606 | 0.2169394 |\n",
       "| 20DPA | 6863 | 1194 | 330 | 237 |  8624 | ratio1 | 0.7958024 | 0.2041976 |\n",
       "| 4DPA  | 7570 | 1730 | 456 | 314 | 10070 | ratio1 | 0.7517378 | 0.2482622 |\n",
       "| 8DPA  | 7998 | 1590 | 454 | 339 | 10381 | ratio1 | 0.7704460 | 0.2295540 |\n",
       "\n"
      ],
      "text/plain": [
       "  stage rank1 rank2 rank3 rank4 totalGene rankType ratio     ratio2   \n",
       "1 0DPA  8079  1843  453   287   10662     ratio1   0.7577378 0.2422622\n",
       "2 12DPA 8092  3234  864   484   12674     ratio1   0.6384725 0.3615275\n",
       "3 16DPA 7609  1482  360   266    9717     ratio1   0.7830606 0.2169394\n",
       "4 20DPA 6863  1194  330   237    8624     ratio1   0.7958024 0.2041976\n",
       "5 4DPA  7570  1730  456   314   10070     ratio1   0.7517378 0.2482622\n",
       "6 8DPA  7998  1590  454   339   10381     ratio1   0.7704460 0.2295540"
      ]
     },
     "metadata": {},
     "output_type": "display_data"
    }
   ],
   "source": [
    "geneIndependent %>% mutate(totalGene=rank1+rank2+rank3+rank4) %>%\n",
    "    mutate(\n",
    "        ratio1=rank1/totalGene,\n",
    "        ratio2=rank2/totalGene,\n",
    "        ratio3=rank3/totalGene,\n",
    "        ratio4=rank4/totalGene,\n",
    "    ) %>% pivot_longer(\n",
    "        cols=starts_with('ratio'),\n",
    "        names_to=c(\"rankType\"),\n",
    "        values_to=c('ratio')\n",
    "    )  %>% filter(rankType=='ratio1') %>% mutate(ratio2=1-ratio) "
   ]
  },
  {
   "cell_type": "code",
   "execution_count": 59,
   "metadata": {},
   "outputs": [
    {
     "data": {
      "text/html": [
       "<strong>png:</strong> 2"
      ],
      "text/latex": [
       "\\textbf{png:} 2"
      ],
      "text/markdown": [
       "**png:** 2"
      ],
      "text/plain": [
       "png \n",
       "  2 "
      ]
     },
     "metadata": {},
     "output_type": "display_data"
    },
    {
     "data": {
      "image/png": "[encoded data removed]",
      "text/plain": [
       "plot without title"
      ]
     },
     "metadata": {
      "image/png": {
       "height": 420,
       "width": 420
      }
     },
     "output_type": "display_data"
    }
   ],
   "source": [
    "plotData <- geneIndependent %>%\n",
    "    mutate(totalGene = rank1 + rank2 + rank3 + rank4) %>%\n",
    "    mutate(\n",
    "        ratio1 = rank1 / totalGene,\n",
    "        ratio2 = rank2 / totalGene,\n",
    "        ratio3 = rank3 / totalGene,\n",
    "        ratio4 = rank4 / totalGene,\n",
    "    ) %>%\n",
    "    pivot_longer(\n",
    "        cols = starts_with(\"ratio\"),\n",
    "        names_to = c(\"rankType\"),\n",
    "        values_to = c(\"ratio\")\n",
    "    )\n",
    "plotData$stage <- factor(plotData$stage, levels = c(\"0DPA\", \"4DPA\", \"8DPA\", \"12DPA\", \"16DPA\", \"20DPA\"))\n",
    "p=plotData %>%\n",
    "    ggplot(aes(x = stage, y = ratio, fill = rankType)) +\n",
    "    geom_bar(\n",
    "        stat = \"identity\",\n",
    "        width = 0.95\n",
    "    ) +\n",
    "    geom_point(\n",
    "        data=mean_eQTLCount,aes(x=stage,y=meanCount/3),inherit.aes = F,\n",
    "        size=2,\n",
    "        color='red'\n",
    "        )+\n",
    "    theme_classic() +\n",
    "    theme(\n",
    "        panel.background = element_blank(),\n",
    "        axis.ticks.x = element_line(color = \"black\"),\n",
    "        axis.ticks.y = element_line(color = \"black\"),\n",
    "        axis.text.y = element_text(size = 10, color = \"black\"),\n",
    "        axis.text.x = element_text(size = 12, color = \"black\", angle = 20),\n",
    "        legend.position = \"none\"\n",
    "    ) +\n",
    "    scale_x_discrete(expand = c(-0.5, 0)) +\n",
    "    scale_y_continuous(expand = c(0, 0)) +\n",
    "    scale_fill_manual(\n",
    "        values = c(\"#D0E1F1\", \"#95C4DE\", \"#4C98C9\", \"#1965AC\")\n",
    "    ) +\n",
    "    ylab(\"Proportion of eGenes\") +\n",
    "    xlab(\"\")\n",
    "pdf(\"All_eGene_QTLCount.pdf\",width = 4,height = 4)\n",
    "print(p)\n",
    "dev.off()\n",
    "p"
   ]
  },
  {
   "cell_type": "code",
   "execution_count": 4,
   "metadata": {},
   "outputs": [],
   "source": [
    "#-------------------------------------------------------------------------\n",
    "# TODO: 绘制多个rank的eQTL距离eGene的distance比较\n",
    "#-------------------------------------------------------------------------\n",
    "All_rank_cis_eQTL <- read.table(\"All_cis_eQTL_rank_distance.txt\", header = T)"
   ]
  },
  {
   "cell_type": "code",
   "execution_count": 6,
   "metadata": {},
   "outputs": [
    {
     "data": {
      "text/html": [
       "<table class=\"dataframe\">\n",
       "<caption>A data.frame: 4 × 2</caption>\n",
       "<thead>\n",
       "\t<tr><th scope=col>rank</th><th scope=col>n</th></tr>\n",
       "\t<tr><th scope=col>&lt;int&gt;</th><th scope=col>&lt;int&gt;</th></tr>\n",
       "</thead>\n",
       "<tbody>\n",
       "\t<tr><td>1</td><td>53854</td></tr>\n",
       "\t<tr><td>2</td><td> 7234</td></tr>\n",
       "\t<tr><td>3</td><td>  977</td></tr>\n",
       "\t<tr><td>4</td><td>  419</td></tr>\n",
       "</tbody>\n",
       "</table>\n"
      ],
      "text/latex": [
       "A data.frame: 4 × 2\n",
       "\\begin{tabular}{ll}\n",
       " rank & n\\\\\n",
       " <int> & <int>\\\\\n",
       "\\hline\n",
       "\t 1 & 53854\\\\\n",
       "\t 2 &  7234\\\\\n",
       "\t 3 &   977\\\\\n",
       "\t 4 &   419\\\\\n",
       "\\end{tabular}\n"
      ],
      "text/markdown": [
       "\n",
       "A data.frame: 4 × 2\n",
       "\n",
       "| rank &lt;int&gt; | n &lt;int&gt; |\n",
       "|---|---|\n",
       "| 1 | 53854 |\n",
       "| 2 |  7234 |\n",
       "| 3 |   977 |\n",
       "| 4 |   419 |\n",
       "\n"
      ],
      "text/plain": [
       "  rank n    \n",
       "1 1    53854\n",
       "2 2     7234\n",
       "3 3      977\n",
       "4 4      419"
      ]
     },
     "metadata": {},
     "output_type": "display_data"
    }
   ],
   "source": [
    "All_rank_cis_eQTL %>% count(rank)"
   ]
  },
  {
   "cell_type": "code",
   "execution_count": 51,
   "metadata": {},
   "outputs": [
    {
     "data": {
      "text/html": [
       "<strong>png:</strong> 2"
      ],
      "text/latex": [
       "\\textbf{png:} 2"
      ],
      "text/markdown": [
       "**png:** 2"
      ],
      "text/plain": [
       "png \n",
       "  2 "
      ]
     },
     "metadata": {},
     "output_type": "display_data"
    },
    {
     "data": {
      "image/png": "[encoded data removed]",
      "text/plain": [
       "plot without title"
      ]
     },
     "metadata": {
      "image/png": {
       "height": 420,
       "width": 420
      }
     },
     "output_type": "display_data"
    }
   ],
   "source": [
    "p <- All_rank_cis_eQTL %>% ggplot(aes(x = factor(rank), y = distance, fill = factor(rank))) +\n",
    "    geom_boxplot(outlier.colour = NA) +\n",
    "    theme_classic() +\n",
    "    xlab(\"independent cis-eQTL\") +\n",
    "    ylab(\"Distance to TSS (kb)\") +\n",
    "    scale_fill_manual(\n",
    "        values = c(\"#D0E1F1\", \"#95C4DE\", \"#4C98C9\", \"#1965AC\")\n",
    "    ) +\n",
    "    theme(legend.position = \"None\")\n",
    "pdf(\"All_rank_ciseQTL_distance.pdf\")\n",
    "print(p)\n",
    "dev.off()\n",
    "p"
   ]
  },
  {
   "cell_type": "code",
   "execution_count": 8,
   "metadata": {},
   "outputs": [
    {
     "data": {
      "text/plain": [
       "\n",
       "\tWilcoxon rank sum test with continuity correction\n",
       "\n",
       "data:  a$distance and b$distance\n",
       "W = 181640, p-value = 0.0008452\n",
       "alternative hypothesis: true location shift is not equal to 0\n"
      ]
     },
     "metadata": {},
     "output_type": "display_data"
    }
   ],
   "source": [
    "a=All_rank_cis_eQTL %>% filter(rank==3) \n",
    "b=All_rank_cis_eQTL %>% filter(rank==4) \n",
    "\n",
    "wilcox.test(\n",
    "    a$distance,b$distance\n",
    ")\n",
    "\n"
   ]
  }
 ],
 "metadata": {
  "interpreter": {
   "hash": "66aa2addb38c89a0d43f63cbdb966cb2dba790ca2bb4fa0a3d79065325ea50af"
  },
  "kernelspec": {
   "display_name": "R 3.6",
   "language": "R",
   "name": "ir32"
  },
  "language_info": {
   "codemirror_mode": "r",
   "file_extension": ".r",
   "mimetype": "text/x-r-source",
   "name": "R",
   "pygments_lexer": "r",
   "version": "3.6.0"
  },
  "orig_nbformat": 4
 },
 "nbformat": 4,
 "nbformat_minor": 2
}
