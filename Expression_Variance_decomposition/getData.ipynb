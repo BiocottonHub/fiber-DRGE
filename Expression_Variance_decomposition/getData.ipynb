{
 "cells": [
  {
   "cell_type": "code",
   "execution_count": 1,
   "metadata": {},
   "outputs": [],
   "source": [
    "from sklearn import preprocessing\n",
    "\n",
    "\n",
    "#--------------------------------------------------\n",
    "#todo: 过滤基因\n",
    "#* 至少在一个时期中80%的样本中FPKM>=5\n",
    "#--------------------------------------------------\n",
    "import pandas as pd\n",
    "import numpy as np \n",
    "import sys \n",
    "stageArray=['0DPA','4DPA','8DPA','12DPA','16DPA','20DPA']\n",
    "readCountData=[]\n",
    "AllsampleName=pd.read_csv(\"./All_sampleName.txt\",header=None,index_col=None,sep=\"\\t\")\n",
    "#* get read count of each gene at times scheme\n",
    "for stage in stageArray:\n",
    "    read_count = pd.read_csv(\n",
    "    \"../Gene_align/read_count/\"+stage+\"/geneFPKM.txt\", header=0, index_col=0, sep=\"\\t\")\n",
    "    read_count.columns=AllsampleName.loc[AllsampleName[0].isin(read_count.columns)].index\n",
    "    readCountData.append(read_count)"
   ]
  },
  {
   "cell_type": "code",
   "execution_count": 25,
   "metadata": {},
   "outputs": [],
   "source": [
    "geneIDFile='/data/cotton/zhenpingliu/LZP_fiberFullPopulationRNAseq/03express_gene/eQTLgenes_Allstages_340samples/fastQTL_peer_20/Gene_information/All_gene_TSS.bed'\n",
    "geneList=pd.read_csv(geneIDFile,header=0,index_col=None,sep=\"\\t\")\n",
    "filterGene=[]\n",
    "for geneid in geneList['geneId']:\n",
    "    fullFillSample=[]\n",
    "    for readData in readCountData:\n",
    "        tmpData=readData.loc[geneid]\n",
    "        fullFillSample.append(\n",
    "            (len([i for i in tmpData if i>=5]),readData.shape[1])\n",
    "        ) \n",
    "    if len([j for i,j in fullFillSample if i/j>=0.8])>=1:\n",
    "        filterGene.append(geneid)\n",
    "filterGene=pd.DataFrame(filterGene)\n",
    "filterGene.to_csv(\"filterGene.txt\",header=None,index=False,sep=\"\\t\")        "
   ]
  },
  {
   "cell_type": "code",
   "execution_count": 24,
   "metadata": {},
   "outputs": [],
   "source": []
  },
  {
   "cell_type": "code",
   "execution_count": 2,
   "metadata": {},
   "outputs": [
    {
     "name": "stderr",
     "output_type": "stream",
     "text": [
      "R[write to console]: Loading required package: Matrix\n",
      "\n"
     ]
    }
   ],
   "source": [
    "from math import log2\n",
    "def get_lm_matrix(readCountArray, geneId):\n",
    "    ''' format data to run lme4 regression model.\n",
    "        + readCountArray: each time point read count.\n",
    "    '''\n",
    "    # * scale time to mean zeri variance 1.\n",
    "    # ?  six time point\n",
    "    time_array = preprocessing.scale(range(1, 7, 1))\n",
    "    # *  expression  sampleId, scaled time\n",
    "    readMatrix = np.empty((0, 3))\n",
    "    for index, readData in enumerate(readCountArray):\n",
    "        #* log2(FPKM+1) transform the FPKM\n",
    "        timePoint=time_array[index]\n",
    "        for sampleIndex,FPKM in readData.loc[geneId].iteritems():\n",
    "            tmpData=[log2(FPKM+1), sampleIndex,timePoint]\n",
    "            readMatrix = np.vstack([readMatrix,tmpData])\n",
    "    readMatrix = pd.DataFrame(\n",
    "        readMatrix, columns=['FPKM', 'sampleId', 'time'])\n",
    "    return readMatrix\n",
    "\n",
    "\n",
    "from rpy2.robjects import pandas2ri\n",
    "import rpy2.robjects as robjects\n",
    "pandas2ri.activate()\n",
    "robjects.r('''\n",
    "        library(lme4)  \n",
    "        library(aod)\n",
    "        ''')\n",
    "\n",
    "RunAnalyseMLMlogit = robjects.r(\n",
    "    '''\n",
    "       f <- function(readMatrix){\n",
    "        #*---------------------------\n",
    "        #* 1. log2(FPKM+1) \n",
    "        #* 2. sampleId \n",
    "        #* 3. time\n",
    "        #*---------------------------\n",
    "        # readMatrix$refAllele=as.factor(readMatrix$sampleId)\n",
    "        # readMatrix$timepoint =as.factor(readMatrix$time)\n",
    "        #*------------------------------\n",
    "        #* Variance decomposition \n",
    "        #*------------------------------\n",
    "        model=lmer('FPKM ~ 1 + (1 | time) +(1|sampleId)', data = readMatrix)\n",
    "        \n",
    "        timeVariant=as.data.frame(summary(model)$varcor)[1,4]\n",
    "        sampleVariant=as.data.frame(summary(model)$varcor)[2,4]\n",
    "        residualVariant=as.data.frame(summary(model)$varcor)[3,4]\n",
    "        result <- c(timeVariant,sampleVariant,residualVariant)\n",
    "        return (result)\n",
    "       } \n",
    "    '''\n",
    ")\n",
    "\n",
    "def bootstrap(lm_matrix,sampleTimes=100):\n",
    "    VariantResult=[]\n",
    "    for item in range(0,sampleTimes):\n",
    "        tmeData=lm_matrix.sample(frac=1,replace=True)\n",
    "        timeVariant,sampleVariant,residualVariant=RunAnalyseMLMlogit(tmeData)\n",
    "        VariantResult.append(\n",
    "            (\n",
    "                timeVariant/(timeVariant+sampleVariant+residualVariant),\n",
    "                sampleVariant/(timeVariant+sampleVariant+residualVariant)\n",
    "            )\n",
    "        )\n",
    "    #! 95% confidence interval\n",
    "    #* 2.5 Quantile and 97.5 Quantile\n",
    "    VariantResult=pd.DataFrame(VariantResult,columns=['tiems','samples'])\n",
    "    confidenceInterVal=[]\n",
    "    for index,Variant in VariantResult.iteritems():\n",
    "        meanData=np.mean(Variant)\n",
    "        lowData=np.percentile(Variant,2.5)\n",
    "        highData=np.percentile(Variant,97.5)\n",
    "        confidenceInterVal.append((lowData,meanData,highData))\n",
    "    #----------------------------------\n",
    "    #* confidence InterVal Array\n",
    "    #[\n",
    "    # [ low, mean,high]\n",
    "    # ]\n",
    "    #----------------------------------\n",
    "    return confidenceInterVal"
   ]
  },
  {
   "cell_type": "code",
   "execution_count": 3,
   "metadata": {},
   "outputs": [
    {
     "data": {
      "text/plain": [
       "((0.1635121872318504, 0.19781410263624769, 0.2379266863732302),\n",
       " (0.08555661079019339, 0.10728577588692356, 0.1341924516029755))"
      ]
     },
     "execution_count": 3,
     "metadata": {},
     "output_type": "execute_result"
    }
   ],
   "source": [
    "dataMatrix=get_lm_matrix(readCountData,'Ghir_A05G006800')\n",
    "timeInterVal,sampleVal=bootstrap(dataMatrix)"
   ]
  },
  {
   "cell_type": "code",
   "execution_count": 9,
   "metadata": {},
   "outputs": [
    {
     "data": {
      "text/html": [
       "<div>\n",
       "<style scoped>\n",
       "    .dataframe tbody tr th:only-of-type {\n",
       "        vertical-align: middle;\n",
       "    }\n",
       "\n",
       "    .dataframe tbody tr th {\n",
       "        vertical-align: top;\n",
       "    }\n",
       "\n",
       "    .dataframe thead th {\n",
       "        text-align: right;\n",
       "    }\n",
       "</style>\n",
       "<table border=\"1\" class=\"dataframe\">\n",
       "  <thead>\n",
       "    <tr style=\"text-align: right;\">\n",
       "      <th></th>\n",
       "      <th>FPKM</th>\n",
       "      <th>sampleId</th>\n",
       "      <th>time</th>\n",
       "    </tr>\n",
       "  </thead>\n",
       "  <tbody>\n",
       "    <tr>\n",
       "      <th>0</th>\n",
       "      <td>3.862461</td>\n",
       "      <td>0.0</td>\n",
       "      <td>-1.46385</td>\n",
       "    </tr>\n",
       "    <tr>\n",
       "      <th>1</th>\n",
       "      <td>3.497804</td>\n",
       "      <td>1.0</td>\n",
       "      <td>-1.46385</td>\n",
       "    </tr>\n",
       "    <tr>\n",
       "      <th>2</th>\n",
       "      <td>3.725381</td>\n",
       "      <td>2.0</td>\n",
       "      <td>-1.46385</td>\n",
       "    </tr>\n",
       "    <tr>\n",
       "      <th>3</th>\n",
       "      <td>3.744559</td>\n",
       "      <td>3.0</td>\n",
       "      <td>-1.46385</td>\n",
       "    </tr>\n",
       "    <tr>\n",
       "      <th>4</th>\n",
       "      <td>3.773237</td>\n",
       "      <td>4.0</td>\n",
       "      <td>-1.46385</td>\n",
       "    </tr>\n",
       "    <tr>\n",
       "      <th>...</th>\n",
       "      <td>...</td>\n",
       "      <td>...</td>\n",
       "      <td>...</td>\n",
       "    </tr>\n",
       "    <tr>\n",
       "      <th>2210</th>\n",
       "      <td>3.809106</td>\n",
       "      <td>371.0</td>\n",
       "      <td>1.46385</td>\n",
       "    </tr>\n",
       "    <tr>\n",
       "      <th>2211</th>\n",
       "      <td>3.541664</td>\n",
       "      <td>372.0</td>\n",
       "      <td>1.46385</td>\n",
       "    </tr>\n",
       "    <tr>\n",
       "      <th>2212</th>\n",
       "      <td>3.504786</td>\n",
       "      <td>373.0</td>\n",
       "      <td>1.46385</td>\n",
       "    </tr>\n",
       "    <tr>\n",
       "      <th>2213</th>\n",
       "      <td>3.816702</td>\n",
       "      <td>374.0</td>\n",
       "      <td>1.46385</td>\n",
       "    </tr>\n",
       "    <tr>\n",
       "      <th>2214</th>\n",
       "      <td>3.711484</td>\n",
       "      <td>375.0</td>\n",
       "      <td>1.46385</td>\n",
       "    </tr>\n",
       "  </tbody>\n",
       "</table>\n",
       "<p>2215 rows × 3 columns</p>\n",
       "</div>"
      ],
      "text/plain": [
       "          FPKM  sampleId     time\n",
       "0     3.862461       0.0 -1.46385\n",
       "1     3.497804       1.0 -1.46385\n",
       "2     3.725381       2.0 -1.46385\n",
       "3     3.744559       3.0 -1.46385\n",
       "4     3.773237       4.0 -1.46385\n",
       "...        ...       ...      ...\n",
       "2210  3.809106     371.0  1.46385\n",
       "2211  3.541664     372.0  1.46385\n",
       "2212  3.504786     373.0  1.46385\n",
       "2213  3.816702     374.0  1.46385\n",
       "2214  3.711484     375.0  1.46385\n",
       "\n",
       "[2215 rows x 3 columns]"
      ]
     },
     "execution_count": 9,
     "metadata": {},
     "output_type": "execute_result"
    }
   ],
   "source": [
    "get_lm_matrix(readCountData,'Ghir_A05G006800')"
   ]
  },
  {
   "cell_type": "code",
   "execution_count": 4,
   "metadata": {},
   "outputs": [],
   "source": [
    "dataMatrix.to_csv(\"test_data.txt\",header=True,index=False,sep=\"\\t\")"
   ]
  },
  {
   "cell_type": "code",
   "execution_count": 5,
   "metadata": {},
   "outputs": [
    {
     "data": {
      "text/plain": [
       "array([0.0045037 , 0.08627789, 0.06126121])"
      ]
     },
     "execution_count": 5,
     "metadata": {},
     "output_type": "execute_result"
    }
   ],
   "source": [
    "RunAnalyseMLMlogit(robjects.pandas2ri.DataFrame(dataMatrix))"
   ]
  }
 ],
 "metadata": {
  "interpreter": {
   "hash": "318ad115214a4af8ad6e18cfd3e37d64f0b71b2b9c6fe5b42ddec07479e8947a"
  },
  "kernelspec": {
   "display_name": "Python 3.7.7 64-bit ('base': conda)",
   "name": "python3"
  },
  "language_info": {
   "codemirror_mode": {
    "name": "ipython",
    "version": 3
   },
   "file_extension": ".py",
   "mimetype": "text/x-python",
   "name": "python",
   "nbconvert_exporter": "python",
   "pygments_lexer": "ipython3",
   "version": "3.7.7"
  },
  "orig_nbformat": 4
 },
 "nbformat": 4,
 "nbformat_minor": 2
}
