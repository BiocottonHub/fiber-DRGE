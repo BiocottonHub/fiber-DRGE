{
 "cells": [
  {
   "cell_type": "code",
   "execution_count": 2,
   "metadata": {},
   "outputs": [],
   "source": [
    "import pandas as pd\n",
    "from pysnptools.snpreader import Bed\n",
    "snp_on_disk = Bed(\n",
    "    \"/data/cotton/zhenpingliu/LZP_fiberFullPopulationRNAseq/Genotype/Trait_376.bed\",\n",
    "    count_A1=False)\n",
    "snpdata1 = snp_on_disk.read()\n",
    "SNP_pos = pd.DataFrame(snpdata1.pos, index=snpdata1.sid)\n"
   ]
  },
  {
   "cell_type": "code",
   "execution_count": 23,
   "metadata": {},
   "outputs": [],
   "source": [
    "#--------------------------------------------------------------\n",
    "#TODO: 获取GWAS SNP在两各亲本材料中的基因型数据\n",
    "#? 获取50kb范围内与lead SNP连锁的位点基因型\n",
    "#--------------------------------------------------------------\n",
    "GWAS_site=pd.read_csv(\"./GWAS_site.txt\",header=0,index_col=None,sep=\"\\s+\")"
   ]
  },
  {
   "cell_type": "code",
   "execution_count": 40,
   "metadata": {},
   "outputs": [],
   "source": [
    "ChromDict={\n",
    "    'Ghir_A01':1,'Ghir_A02':2,'Ghir_A03':3,'Ghir_A04':4,'Ghir_A05':5,'Ghir_A06':6,\n",
    "    'Ghir_A07':7,'Ghir_A08':8,'Ghir_A09':9,'Ghir_A10':10,'Ghir_A11':11,'Ghir_A12':12,\n",
    "    'Ghir_A13':13,\n",
    "    'Ghir_D01':14,'Ghir_D02':15,'Ghir_D03':16,'Ghir_D04':17,'Ghir_D05':18,'Ghir_D06':19,\n",
    "    'Ghir_D07':20,'Ghir_D08':21,'Ghir_D09':22,'Ghir_D10':23,'Ghir_D11':24,'Ghir_D12':25,\n",
    "    'Ghir_D13':26,\n",
    "}\n",
    "ChromDict2={\n",
    "    'A01':1,'A02':2,'A03':3,'A04':4,'A05':5,'A06':6,\n",
    "    'A07':7,'A08':8,'A09':9,'A10':10,'A11':11,'A12':12,\n",
    "    'A13':13,\n",
    "    'D01':14,'D02':15,'D03':16,'D04':17,'D05':18,'D06':19,\n",
    "    'D07':20,'D08':21,'D09':22,'D10':23,'D11':24,'D12':25,\n",
    "    'D13':26,\n",
    "}"
   ]
  },
  {
   "cell_type": "code",
   "execution_count": 61,
   "metadata": {},
   "outputs": [],
   "source": [
    "SNPlist=[]\n",
    "for Chrom,leadSNP in GWAS_site[['Chr','Lead-SNP']].values:\n",
    "    SNPlist.append(\n",
    "        SNP_pos.loc[(SNP_pos[0]==ChromDict2.get(Chrom))&(SNP_pos[2]==int(\"\".join(leadSNP.split(\",\"))))].index[0]\n",
    "    )\n",
    "GWAS_site['SNP']=SNPlist\n",
    "GWAS_site.to_csv(\"./GWAS_site.txt\",header=True,index=False,sep=\"\\t\")"
   ]
  },
  {
   "cell_type": "code",
   "execution_count": 84,
   "metadata": {},
   "outputs": [],
   "source": [
    "TWAS_site=pd.read_csv(\"./TWAS_site.txt\",header=0,index_col=None,sep=\"\\s+\")\n",
    "TWAS_site=TWAS_site.drop_duplicates()\n",
    "TWAS_site['SNP']=TWAS_site.apply(\n",
    "    lambda x:SNP_pos.loc[(SNP_pos[0]==int(x['GWAS'].split(\"_\")[0]))&(SNP_pos[2]==int(x['GWAS'].split(\"_\")[1]))].index[0],\n",
    "    axis=1\n",
    ")\n",
    "TWAS_site.to_csv(\"TWAS_gene_site.txt\",header=True,index=False,sep=\"\\t\")"
   ]
  },
  {
   "cell_type": "code",
   "execution_count": 99,
   "metadata": {},
   "outputs": [],
   "source": [
    "#-------------------------------------------------------------\n",
    "#TODO: 提取每个lead sNP的SNP cluster\n",
    "#-------------------------------------------------------------\n",
    "ld_SNPs=pd.read_csv(\"leadSNP.ld\",header=0,index_col=None,sep=\"\\s+\")\n",
    "leadSNP=pd.read_csv(\"All_leadSNP.txt\",header=None,index_col=None,sep=\"\\t\")\n",
    "out=[]\n",
    "for snp in leadSNP[0].values:\n",
    "    SNPlist=ld_SNPs.loc[ld_SNPs['SNP_A']==snp]\n",
    "    out.append(\n",
    "        (snp,\"-\".join(SNPlist['SNP_B']))\n",
    "    )\n",
    "pd.DataFrame(out,columns=['leadSNP','SNPCluster']).to_csv(\"leadSNP_cluster.txt\",header=True,index=False,sep=\"\\t\")    "
   ]
  },
  {
   "cell_type": "code",
   "execution_count": 4,
   "metadata": {},
   "outputs": [
    {
     "data": {
      "text/html": [
       "<div>\n",
       "<style scoped>\n",
       "    .dataframe tbody tr th:only-of-type {\n",
       "        vertical-align: middle;\n",
       "    }\n",
       "\n",
       "    .dataframe tbody tr th {\n",
       "        vertical-align: top;\n",
       "    }\n",
       "\n",
       "    .dataframe thead th {\n",
       "        text-align: right;\n",
       "    }\n",
       "</style>\n",
       "<table border=\"1\" class=\"dataframe\">\n",
       "  <thead>\n",
       "    <tr style=\"text-align: right;\">\n",
       "      <th></th>\n",
       "      <th>0</th>\n",
       "      <th>1</th>\n",
       "    </tr>\n",
       "  </thead>\n",
       "  <tbody>\n",
       "    <tr>\n",
       "      <th>22</th>\n",
       "      <td>22</td>\n",
       "      <td>S326</td>\n",
       "    </tr>\n",
       "    <tr>\n",
       "      <th>98</th>\n",
       "      <td>98</td>\n",
       "      <td>S321</td>\n",
       "    </tr>\n",
       "  </tbody>\n",
       "</table>\n",
       "</div>"
      ],
      "text/plain": [
       "     0     1\n",
       "22  22  S326\n",
       "98  98  S321"
      ]
     },
     "execution_count": 4,
     "metadata": {},
     "output_type": "execute_result"
    }
   ],
   "source": [
    "import pysam\n",
    "tabObject=pysam.TabixFile(\"/data/cotton/zhenpingliu/LZP_fiberFullPopulationRNAseq/Genotype/All_376_.filter2.Chrs.hmp.gz\")\n",
    "Samples=tabObject.header[0].split(\"\\t\")[11:]\n",
    "tmp=pd.DataFrame(zip(range(0,376),Samples))\n",
    "tmp.loc[tmp[1].isin(['S321','S326'])]"
   ]
  },
  {
   "cell_type": "code",
   "execution_count": 193,
   "metadata": {},
   "outputs": [],
   "source": [
    "#----------------------------------------------------------------------\n",
    "#* 分析GWAS QTL随机挑选50个SNP，统计这50个SNP在两个亲本材料中的差异情况\n",
    "#* ZY220对应 RNA编号为S321，对应的列数为98\n",
    "#* ZY243对应 RNA编号为S326，对应的列数为22\n",
    "#----------------------------------------------------------------------\n",
    "leadSNPCluster=pd.read_csv(\"./leadSNP_cluster.txt\",index_col=0,header=0,sep=\"\\t\")\n",
    "out=[]\n",
    "def getGenotypeSame(x):\n",
    "    leadChrom=SNP_pos.loc[x].iloc[0]\n",
    "    leadStart=SNP_pos.loc[x].iloc[2]\n",
    "    SNPData=list(tabObject.fetch(reference=int(leadChrom),start=leadStart,end=leadStart+1))[0].split(\"\\t\")[11:]\n",
    "    if SNPData[22]!=SNPData[98]:\n",
    "        return 1\n",
    "    else:\n",
    "        #* 两各亲本在SNP的基因型相同\n",
    "        return 0\n",
    "    \n",
    "#* 对所有的数据进行分析\n",
    "for leadSNP  in TWAS_site['SNP']:\n",
    "    leadSNPcode=getGenotypeSame(leadSNP)\n",
    "    SNPcluster=leadSNPCluster.loc[leadSNP][0].split(\"-\")\n",
    "    SNPcluster_array=[]\n",
    "    if len(SNPcluster)>=20:\n",
    "        for snp in  SNPcluster[0:20]:\n",
    "            SNPcluster_array.append(\n",
    "                getGenotypeSame(snp)\n",
    "            ) \n",
    "    else:\n",
    "        #* 少于20个ld SNPs\n",
    "        for snp in  SNPcluster:\n",
    "            SNPcluster_array.append(\n",
    "                getGenotypeSame(snp)\n",
    "            )\n",
    "        SNPcluster_array=SNPcluster_array+[-1]*(20-len(SNPcluster))\n",
    "    \n",
    "    out.append(\n",
    "        [leadSNPcode]+SNPcluster_array\n",
    "    )"
   ]
  },
  {
   "cell_type": "code",
   "execution_count": 191,
   "metadata": {},
   "outputs": [],
   "source": [
    "GWAS_conserved = pd.DataFrame(out)\n",
    "GWAS_conserved.to_csv(\"GWAS_conserved.txt\", header=False,\n",
    "                      index=False, sep=\"\\t\")\n"
   ]
  },
  {
   "cell_type": "code",
   "execution_count": 194,
   "metadata": {},
   "outputs": [],
   "source": [
    "TWAS_conserved = pd.DataFrame(out)\n",
    "TWAS_conserved.to_csv(\"TWAS_conserved.txt\", header=False,\n",
    "                      index=False, sep=\"\\t\")\n"
   ]
  }
 ],
 "metadata": {
  "interpreter": {
   "hash": "d4ef4a7836bd84c4f4f5a47eac690641e0198503f62aad2db048f05f031df6c7"
  },
  "kernelspec": {
   "display_name": "Python 3.6.9 64-bit",
   "language": "python",
   "name": "python3"
  },
  "language_info": {
   "codemirror_mode": {
    "name": "ipython",
    "version": 3
   },
   "file_extension": ".py",
   "mimetype": "text/x-python",
   "name": "python",
   "nbconvert_exporter": "python",
   "pygments_lexer": "ipython3",
   "version": "3.9.13"
  },
  "orig_nbformat": 4
 },
 "nbformat": 4,
 "nbformat_minor": 2
}
