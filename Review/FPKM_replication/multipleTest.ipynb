{
 "cells": [
  {
   "cell_type": "code",
   "execution_count": 1,
   "metadata": {},
   "outputs": [],
   "source": [
    "import pandas as pd \n",
    "from statsmodels.stats.multitest import multipletests\n",
    "from scipy.stats import wilcoxon"
   ]
  },
  {
   "cell_type": "code",
   "execution_count": null,
   "metadata": {},
   "outputs": [],
   "source": [
    "def pair_test(x):\n",
    "    '''计算每对基因的pvalue\n",
    "    '''\n",
    "    expressionData=[ (float(i.split(\"-\")[0]),float(i.split(\"-\")[1])) for i in x]\n",
    "    expressionData=pd.DataFrame(expressionData)\n",
    "    v_,pavl=wilcoxon(\n",
    "        expressionData[0].values,\n",
    "        expressionData[1].values,\n",
    "        alternative='two-sided'\n",
    "    )\n",
    "    return pavl"
   ]
  },
  {
   "cell_type": "code",
   "execution_count": null,
   "metadata": {},
   "outputs": [],
   "source": [
    "stage='0DPA'\n",
    "rawPath='/data/cotton/zhenpingliu/LZP_fiberFullPopulationRNAseq/04homologExpressionPattern/'\n",
    "BiasGenePairs=pd.read_csv(\n",
    "    \"{}/Homolog_ExpressionBias/{}_has_Bias_geneId.txt\".format(\n",
    "        rawPath,stage\n",
    "    ),\n",
    "    header=None,index_col=None,sep=\"\\t\"\n",
    ")\n"
   ]
  },
  {
   "cell_type": "code",
   "execution_count": null,
   "metadata": {},
   "outputs": [],
   "source": []
  },
  {
   "cell_type": "code",
   "execution_count": null,
   "metadata": {},
   "outputs": [],
   "source": [
    "Stage_ExpressionData=pd.read_csv(\n",
    "    \"{}/Allhomolog_{}_FPKM_V2.txt\".format(\n",
    "        rawPath,stage\n",
    "    ),\n",
    "    header=0,index_col=0,sep=\"\\t\"\n",
    ")\n",
    "#TODO 在至少5%的样本中发生Bias的基因对\n",
    "BiasGeneList=BiasGenePairs.loc[~BiasGenePairs[1].isin(['BiasN_noExpression','BiasN_Expression'])][0].values\n",
    "pvalueList=Stage_ExpressionData.loc[BiasGeneList].apply(\n",
    "    lambda x:pair_test(x),axis=1\n",
    ")\n",
    "qvalueList=multipletests(pvalueList.values,method='bonferroni')[1]\n",
    "#* 合并每个基因 矫正后的结果：\n",
    "BiasGeneListData=BiasGenePairs.loc[~BiasGenePairs[1].isin(['BiasN_noExpression','BiasN_Expression'])]\n",
    "BiasGeneListData['pval']=pvalueList.values\n",
    "BiasGeneListData['qval']=qvalueList\n",
    "\n",
    "BiasGeneListData.to_csv(\"./multipleTest/{}_BiasGene_multipleTest.txt\".format(stage),header=True,index=False,sep=\"\\t\")"
   ]
  },
  {
   "cell_type": "code",
   "execution_count": null,
   "metadata": {},
   "outputs": [],
   "source": [
    "#-----------------------------------------------------\n",
    "#TODO pvalue矫正换不同的方法\n",
    "#-----------------------------------------------------\n",
    "stage='20DPA'\n",
    "multipleTestBiasGene=pd.read_csv(\"./multipleTest/{}_BiasGene_multipleTest.txt\".format(stage),header=0,index_col=0,sep=\"\\t\")\n",
    "multipleTestBiasGene=multipleTestBiasGene.iloc[:,[0,1,2]]\n",
    "multipleTestBiasGene.columns=['1', 'pval', 'qval']\n",
    "qvalueList=multipletests(multipleTestBiasGene['pval'].values,method='fdr_bh')[1] \n",
    "multipleTestBiasGene['fdr_bh']=qvalueList\n",
    "multipleTestBiasGene.to_csv(\n",
    "    \"./multipleTest/{}_BiasGene_multipleTest.txt\".format(stage),header=True,index=True,sep=\"\\t\"\n",
    ")"
   ]
  },
  {
   "cell_type": "code",
   "execution_count": null,
   "metadata": {},
   "outputs": [],
   "source": [
    "#---------------------------------------------------------------------\n",
    "#TODO 所有基因对的Bias类型以及多重校验后的fdr值\n",
    "#---------------------------------------------------------------------\n",
    "stage='0DPA'\n",
    "rawPath='/data/cotton/zhenpingliu/LZP_fiberFullPopulationRNAseq/04homologExpressionPattern/'\n",
    "BiasGenePairs=pd.read_csv(\n",
    "    \"{}/Homolog_ExpressionBias/{}_has_Bias_geneId.txt\".format(\n",
    "        rawPath,stage\n",
    "    ),\n",
    "    header=None,index_col=None,sep=\"\\t\"\n",
    ")\n",
    "BiasGenePairs.columns=['0','1']\n",
    "#* 每个时期，多重校验后的结果\n",
    "multipleTestBiasGene = pd.read_csv(\n",
    "    \"./multipleTest/{}_BiasGene_multipleTest.txt\".format(stage), header=0, index_col=None, sep=\"\\t\")\n",
    "MergeData=pd.merge(\n",
    "    BiasGenePairs,multipleTestBiasGene[['0','1','fdr_bh']],on=['0'],how='outer'\n",
    ")\n",
    "MergeData=MergeData[['0','1_x','fdr_bh']]\n",
    "MergeData.columns=['genePair','BiasType','fdr']\n",
    "def getBiasType(x):\n",
    "    geneId,BiasType,fdr=x\n",
    "    if fdr<=0.05:\n",
    "        return BiasType\n",
    "    else:\n",
    "        return 'BiasN'\n",
    "MergeData['BiasType_V2']=MergeData.apply(getBiasType,axis=1)\n",
    "MergeData.to_csv(\"./multipleTest/{}_homoeologous_fdr.txt\".format(stage),header=True,index=False,sep=\"\\t\",na_rep=1)"
   ]
  },
  {
   "cell_type": "code",
   "execution_count": null,
   "metadata": {},
   "outputs": [],
   "source": [
    "#* 合并所有时期的结果 \n",
    "MergeData=pd.DataFrame()\n",
    "for stage in ['0DPA','4DPA','8DPA','12DPA','16DPA','20DPA']:\n",
    "    tmpData=pd.read_csv(\"./multipleTest/{}_homoeologous_fdr.txt\".format(stage),header=0,index_col=0,sep=\"\\t\")\n",
    "    MergeData=pd.concat([MergeData,tmpData[['BiasType_V2']]],axis=1)\n",
    "\n",
    "MergeData.columns= ['0DPA','4DPA','8DPA','12DPA','16DPA','20DPA']\n",
    "MergeData.to_csv(\"./multipleTest/All_stageBiastype.txt\",header=True,index=True,sep=\"\\t\")"
   ]
  },
  {
   "cell_type": "code",
   "execution_count": 5,
   "metadata": {},
   "outputs": [],
   "source": [
    "#* 所有表达的基因\n",
    "#* 提取同源基因对中任意一个是表达的状态\n",
    "expressedGene=pd.read_csv(\n",
    "    \"/public/home/jqyou/out/hg_task/result1_tetroploid/expressed_gene_num/expressed_gene_name_49860.txt\",\n",
    "    header=None,index_col=None,sep=\"\\t\"\n",
    ")\n",
    "#! 存在Bias的基因\n",
    "AllHomoeologousData=pd.read_csv(\"./multipleTest/All_stageBiastype.txt\",header=0,index_col=None,sep=\"\\t\")"
   ]
  },
  {
   "cell_type": "code",
   "execution_count": 17,
   "metadata": {},
   "outputs": [],
   "source": [
    "def homoeologousExpressed(homoeologous):\n",
    "    At,Dt=homoeologous.split(\"-\")\n",
    "    if expressedGene.loc[expressedGene[0].isin([At,Dt])].empty:\n",
    "        return 'noExpressed'\n",
    "    else:\n",
    "        return 'Expressed'\n",
    "AllHomoeologousData[\n",
    "    'expression']=AllHomoeologousData[\n",
    "    'genePair'\n",
    "    ].apply(lambda x:homoeologousExpressed(x))   \n",
    "AllHomoeologousData.to_csv(\"./multipleTest/All_stageBiastype.txt\",header=True,index=False,sep=\"\\t\")         "
   ]
  },
  {
   "cell_type": "code",
   "execution_count": 30,
   "metadata": {},
   "outputs": [],
   "source": [
    "AllHomoeologousData=pd.read_csv(\"./multipleTest/All_stageBiastype.txt\",header=0,index_col=None,sep=\"\\t\")"
   ]
  },
  {
   "cell_type": "code",
   "execution_count": 119,
   "metadata": {},
   "outputs": [],
   "source": [
    "filterBiasGene=AllHomoeologousData.loc[\n",
    "~(  (AllHomoeologousData['0DPA']==AllHomoeologousData['4DPA'])&(\n",
    "        AllHomoeologousData['4DPA']==AllHomoeologousData['8DPA']\n",
    "    )&(AllHomoeologousData['8DPA']==AllHomoeologousData['12DPA'])&(\n",
    "        AllHomoeologousData['12DPA']==AllHomoeologousData['16DPA']\n",
    "    )&(AllHomoeologousData['16DPA']==AllHomoeologousData['20DPA'])&(\n",
    "        AllHomoeologousData['20DPA']=='BiasN'\n",
    " ))\n",
    "]\n",
    "#* 多重校验且已表达的基因对\n",
    "filterBiasGene=filterBiasGene.loc[filterBiasGene['expression']==\"Expressed\"]"
   ]
  },
  {
   "cell_type": "code",
   "execution_count": 137,
   "metadata": {},
   "outputs": [
    {
     "data": {
      "text/plain": [
       "BiasN           9294\n",
       "BiasD           5433\n",
       "BiasA           5116\n",
       "BidirectBias     346\n",
       "Name: 20DPA, dtype: int64"
      ]
     },
     "execution_count": 137,
     "metadata": {},
     "output_type": "execute_result"
    }
   ],
   "source": [
    "AllHomoeologousData.loc[AllHomoeologousData['expression']=='Expressed']['20DPA'].value_counts()"
   ]
  },
  {
   "cell_type": "code",
   "execution_count": 103,
   "metadata": {},
   "outputs": [
    {
     "data": {
      "text/plain": [
       "(1535, 8)"
      ]
     },
     "execution_count": 103,
     "metadata": {},
     "output_type": "execute_result"
    }
   ],
   "source": [
    "AllHomoeologousData.loc[\n",
    "(  (AllHomoeologousData['0DPA']==AllHomoeologousData['4DPA'])&(\n",
    "        AllHomoeologousData['4DPA']==AllHomoeologousData['8DPA']\n",
    "    )&(AllHomoeologousData['8DPA']==AllHomoeologousData['12DPA'])&(\n",
    "        AllHomoeologousData['12DPA']==AllHomoeologousData['16DPA']\n",
    "    )&(AllHomoeologousData['16DPA']==AllHomoeologousData['20DPA'])&(\n",
    "        AllHomoeologousData['20DPA']=='BiasA'\n",
    " ))\n",
    "].shape"
   ]
  },
  {
   "cell_type": "code",
   "execution_count": 63,
   "metadata": {},
   "outputs": [
    {
     "data": {
      "text/plain": [
       "(10895, 8)"
      ]
     },
     "execution_count": 63,
     "metadata": {},
     "output_type": "execute_result"
    }
   ],
   "source": [
    "filterBiasGene.loc[filterBiasGene['20DPA']!=\"BiasN\"].shape"
   ]
  },
  {
   "cell_type": "code",
   "execution_count": 74,
   "metadata": {},
   "outputs": [],
   "source": [
    "All_stage_foldChanges=pd.DataFrame()\n",
    "for stage in ['0DPA','4DPA','8DPA','12DPA','16DPA','20DPA']:\n",
    "    tmpData=pd.read_csv(\"./multipleTest/{}_homoeologous_fdr.txt\".format(stage),header=0,index_col=0,sep=\"\\t\") \n",
    "    tmpData=tmpData[['BiasType']]\n",
    "    All_stage_foldChanges=pd.concat([All_stage_foldChanges,tmpData],axis=1)"
   ]
  },
  {
   "cell_type": "code",
   "execution_count": 76,
   "metadata": {},
   "outputs": [],
   "source": [
    "def biasType(x):\n",
    "    if x=='BiasN_Expression':\n",
    "        return 'BiasN'\n",
    "    elif x=='BiasN_noExpression':\n",
    "        return 'BiasN'\n",
    "    else:\n",
    "        return x\n",
    "All_stage_foldChanges=All_stage_foldChanges.applymap(\n",
    "        lambda x:biasType(x)\n",
    "    )    \n",
    "All_stage_foldChanges.columns=['0DPA','4DPA','8DPA','12DPA','16DPA','20DPA']    \n"
   ]
  },
  {
   "cell_type": "code",
   "execution_count": 84,
   "metadata": {},
   "outputs": [],
   "source": [
    "All_stage_foldChanges['Homoeologous']=All_stage_foldChanges.index\n",
    "All_stage_foldChanges[\n",
    "    'expression']=All_stage_foldChanges['Homoeologous'].apply(lambda x:homoeologousExpressed(x))   "
   ]
  },
  {
   "cell_type": "code",
   "execution_count": 87,
   "metadata": {},
   "outputs": [],
   "source": [
    "All_stage_Expressed_foldChanges=All_stage_foldChanges.loc[All_stage_foldChanges['expression']=='Expressed']"
   ]
  },
  {
   "cell_type": "code",
   "execution_count": 96,
   "metadata": {},
   "outputs": [
    {
     "data": {
      "text/html": [
       "<div>\n",
       "<style scoped>\n",
       "    .dataframe tbody tr th:only-of-type {\n",
       "        vertical-align: middle;\n",
       "    }\n",
       "\n",
       "    .dataframe tbody tr th {\n",
       "        vertical-align: top;\n",
       "    }\n",
       "\n",
       "    .dataframe thead th {\n",
       "        text-align: right;\n",
       "    }\n",
       "</style>\n",
       "<table border=\"1\" class=\"dataframe\">\n",
       "  <thead>\n",
       "    <tr style=\"text-align: right;\">\n",
       "      <th></th>\n",
       "      <th>0DPA</th>\n",
       "      <th>4DPA</th>\n",
       "      <th>8DPA</th>\n",
       "      <th>12DPA</th>\n",
       "      <th>16DPA</th>\n",
       "      <th>20DPA</th>\n",
       "      <th>Homoeologous</th>\n",
       "      <th>expression</th>\n",
       "    </tr>\n",
       "    <tr>\n",
       "      <th>genePair</th>\n",
       "      <th></th>\n",
       "      <th></th>\n",
       "      <th></th>\n",
       "      <th></th>\n",
       "      <th></th>\n",
       "      <th></th>\n",
       "      <th></th>\n",
       "      <th></th>\n",
       "    </tr>\n",
       "  </thead>\n",
       "  <tbody>\n",
       "    <tr>\n",
       "      <th>Ghir_A01G000040-Ghir_D01G000060</th>\n",
       "      <td>BiasA</td>\n",
       "      <td>BiasN</td>\n",
       "      <td>BiasN</td>\n",
       "      <td>BiasN</td>\n",
       "      <td>BiasN</td>\n",
       "      <td>BiasN</td>\n",
       "      <td>Ghir_A01G000040-Ghir_D01G000060</td>\n",
       "      <td>Expressed</td>\n",
       "    </tr>\n",
       "    <tr>\n",
       "      <th>Ghir_A01G000540-Ghir_D01G000520</th>\n",
       "      <td>BiasA</td>\n",
       "      <td>BiasN</td>\n",
       "      <td>BiasN</td>\n",
       "      <td>BiasN</td>\n",
       "      <td>BiasN</td>\n",
       "      <td>BiasN</td>\n",
       "      <td>Ghir_A01G000540-Ghir_D01G000520</td>\n",
       "      <td>Expressed</td>\n",
       "    </tr>\n",
       "    <tr>\n",
       "      <th>Ghir_A01G000910-Ghir_D01G000870</th>\n",
       "      <td>BiasA</td>\n",
       "      <td>BiasD</td>\n",
       "      <td>BiasD</td>\n",
       "      <td>BiasD</td>\n",
       "      <td>BiasD</td>\n",
       "      <td>BiasD</td>\n",
       "      <td>Ghir_A01G000910-Ghir_D01G000870</td>\n",
       "      <td>Expressed</td>\n",
       "    </tr>\n",
       "    <tr>\n",
       "      <th>Ghir_A01G000930-Ghir_D01G000900</th>\n",
       "      <td>BiasA</td>\n",
       "      <td>BiasA</td>\n",
       "      <td>BiasA</td>\n",
       "      <td>BiasA</td>\n",
       "      <td>BiasA</td>\n",
       "      <td>BiasA</td>\n",
       "      <td>Ghir_A01G000930-Ghir_D01G000900</td>\n",
       "      <td>Expressed</td>\n",
       "    </tr>\n",
       "    <tr>\n",
       "      <th>Ghir_A01G000940-Ghir_D01G000910</th>\n",
       "      <td>BiasA</td>\n",
       "      <td>BiasA</td>\n",
       "      <td>BiasA</td>\n",
       "      <td>BiasA</td>\n",
       "      <td>BiasN</td>\n",
       "      <td>BiasN</td>\n",
       "      <td>Ghir_A01G000940-Ghir_D01G000910</td>\n",
       "      <td>Expressed</td>\n",
       "    </tr>\n",
       "    <tr>\n",
       "      <th>...</th>\n",
       "      <td>...</td>\n",
       "      <td>...</td>\n",
       "      <td>...</td>\n",
       "      <td>...</td>\n",
       "      <td>...</td>\n",
       "      <td>...</td>\n",
       "      <td>...</td>\n",
       "      <td>...</td>\n",
       "    </tr>\n",
       "    <tr>\n",
       "      <th>Ghir_A13G024350-Ghir_D13G025080</th>\n",
       "      <td>BiasN</td>\n",
       "      <td>BiasN</td>\n",
       "      <td>BiasD</td>\n",
       "      <td>BiasD</td>\n",
       "      <td>BidirectBias</td>\n",
       "      <td>BiasD</td>\n",
       "      <td>Ghir_A13G024350-Ghir_D13G025080</td>\n",
       "      <td>Expressed</td>\n",
       "    </tr>\n",
       "    <tr>\n",
       "      <th>Ghir_A13G024660-Ghir_D13G025430</th>\n",
       "      <td>BiasN</td>\n",
       "      <td>BiasN</td>\n",
       "      <td>BiasD</td>\n",
       "      <td>BiasN</td>\n",
       "      <td>BiasN</td>\n",
       "      <td>BiasD</td>\n",
       "      <td>Ghir_A13G024660-Ghir_D13G025430</td>\n",
       "      <td>Expressed</td>\n",
       "    </tr>\n",
       "    <tr>\n",
       "      <th>Ghir_A13G024670-Ghir_D13G025440</th>\n",
       "      <td>BiasN</td>\n",
       "      <td>BiasA</td>\n",
       "      <td>BiasA</td>\n",
       "      <td>BiasD</td>\n",
       "      <td>BiasD</td>\n",
       "      <td>BiasD</td>\n",
       "      <td>Ghir_A13G024670-Ghir_D13G025440</td>\n",
       "      <td>Expressed</td>\n",
       "    </tr>\n",
       "    <tr>\n",
       "      <th>Ghir_A13G024690-Ghir_D13G025460</th>\n",
       "      <td>BiasN</td>\n",
       "      <td>BiasN</td>\n",
       "      <td>BiasA</td>\n",
       "      <td>BiasA</td>\n",
       "      <td>BiasA</td>\n",
       "      <td>BiasA</td>\n",
       "      <td>Ghir_A13G024690-Ghir_D13G025460</td>\n",
       "      <td>Expressed</td>\n",
       "    </tr>\n",
       "    <tr>\n",
       "      <th>Ghir_A13G024800-Ghir_D13G025570</th>\n",
       "      <td>BiasN</td>\n",
       "      <td>BiasA</td>\n",
       "      <td>BiasA</td>\n",
       "      <td>BiasN</td>\n",
       "      <td>BiasN</td>\n",
       "      <td>BiasN</td>\n",
       "      <td>Ghir_A13G024800-Ghir_D13G025570</td>\n",
       "      <td>Expressed</td>\n",
       "    </tr>\n",
       "  </tbody>\n",
       "</table>\n",
       "<p>16124 rows × 8 columns</p>\n",
       "</div>"
      ],
      "text/plain": [
       "                                  0DPA   4DPA   8DPA  12DPA         16DPA  \\\n",
       "genePair                                                                    \n",
       "Ghir_A01G000040-Ghir_D01G000060  BiasA  BiasN  BiasN  BiasN         BiasN   \n",
       "Ghir_A01G000540-Ghir_D01G000520  BiasA  BiasN  BiasN  BiasN         BiasN   \n",
       "Ghir_A01G000910-Ghir_D01G000870  BiasA  BiasD  BiasD  BiasD         BiasD   \n",
       "Ghir_A01G000930-Ghir_D01G000900  BiasA  BiasA  BiasA  BiasA         BiasA   \n",
       "Ghir_A01G000940-Ghir_D01G000910  BiasA  BiasA  BiasA  BiasA         BiasN   \n",
       "...                                ...    ...    ...    ...           ...   \n",
       "Ghir_A13G024350-Ghir_D13G025080  BiasN  BiasN  BiasD  BiasD  BidirectBias   \n",
       "Ghir_A13G024660-Ghir_D13G025430  BiasN  BiasN  BiasD  BiasN         BiasN   \n",
       "Ghir_A13G024670-Ghir_D13G025440  BiasN  BiasA  BiasA  BiasD         BiasD   \n",
       "Ghir_A13G024690-Ghir_D13G025460  BiasN  BiasN  BiasA  BiasA         BiasA   \n",
       "Ghir_A13G024800-Ghir_D13G025570  BiasN  BiasA  BiasA  BiasN         BiasN   \n",
       "\n",
       "                                 20DPA                     Homoeologous  \\\n",
       "genePair                                                                  \n",
       "Ghir_A01G000040-Ghir_D01G000060  BiasN  Ghir_A01G000040-Ghir_D01G000060   \n",
       "Ghir_A01G000540-Ghir_D01G000520  BiasN  Ghir_A01G000540-Ghir_D01G000520   \n",
       "Ghir_A01G000910-Ghir_D01G000870  BiasD  Ghir_A01G000910-Ghir_D01G000870   \n",
       "Ghir_A01G000930-Ghir_D01G000900  BiasA  Ghir_A01G000930-Ghir_D01G000900   \n",
       "Ghir_A01G000940-Ghir_D01G000910  BiasN  Ghir_A01G000940-Ghir_D01G000910   \n",
       "...                                ...                              ...   \n",
       "Ghir_A13G024350-Ghir_D13G025080  BiasD  Ghir_A13G024350-Ghir_D13G025080   \n",
       "Ghir_A13G024660-Ghir_D13G025430  BiasD  Ghir_A13G024660-Ghir_D13G025430   \n",
       "Ghir_A13G024670-Ghir_D13G025440  BiasD  Ghir_A13G024670-Ghir_D13G025440   \n",
       "Ghir_A13G024690-Ghir_D13G025460  BiasA  Ghir_A13G024690-Ghir_D13G025460   \n",
       "Ghir_A13G024800-Ghir_D13G025570  BiasN  Ghir_A13G024800-Ghir_D13G025570   \n",
       "\n",
       "                                expression  \n",
       "genePair                                    \n",
       "Ghir_A01G000040-Ghir_D01G000060  Expressed  \n",
       "Ghir_A01G000540-Ghir_D01G000520  Expressed  \n",
       "Ghir_A01G000910-Ghir_D01G000870  Expressed  \n",
       "Ghir_A01G000930-Ghir_D01G000900  Expressed  \n",
       "Ghir_A01G000940-Ghir_D01G000910  Expressed  \n",
       "...                                    ...  \n",
       "Ghir_A13G024350-Ghir_D13G025080  Expressed  \n",
       "Ghir_A13G024660-Ghir_D13G025430  Expressed  \n",
       "Ghir_A13G024670-Ghir_D13G025440  Expressed  \n",
       "Ghir_A13G024690-Ghir_D13G025460  Expressed  \n",
       "Ghir_A13G024800-Ghir_D13G025570  Expressed  \n",
       "\n",
       "[16124 rows x 8 columns]"
      ]
     },
     "execution_count": 96,
     "metadata": {},
     "output_type": "execute_result"
    }
   ],
   "source": [
    "All_stage_Expressed_foldChanges.loc[\n",
    "    ~(  (All_stage_Expressed_foldChanges['0DPA']==All_stage_Expressed_foldChanges['4DPA'])&(\n",
    "        All_stage_Expressed_foldChanges['4DPA']==All_stage_Expressed_foldChanges['8DPA']\n",
    "    )&(All_stage_Expressed_foldChanges['8DPA']==All_stage_Expressed_foldChanges['12DPA'])&(\n",
    "        All_stage_Expressed_foldChanges['12DPA']==All_stage_Expressed_foldChanges['16DPA']\n",
    "    )&(All_stage_Expressed_foldChanges['16DPA']==All_stage_Expressed_foldChanges['20DPA'])&(\n",
    "        All_stage_Expressed_foldChanges['20DPA']=='BiasN'\n",
    " ))\n",
    "]"
   ]
  }
 ],
 "metadata": {
  "interpreter": {
   "hash": "66aa2addb38c89a0d43f63cbdb966cb2dba790ca2bb4fa0a3d79065325ea50af"
  },
  "kernelspec": {
   "display_name": "Python 3.9.13 ('base')",
   "language": "python",
   "name": "python3"
  },
  "language_info": {
   "codemirror_mode": {
    "name": "ipython",
    "version": 3
   },
   "file_extension": ".py",
   "mimetype": "text/x-python",
   "name": "python",
   "nbconvert_exporter": "python",
   "pygments_lexer": "ipython3",
   "version": "3.9.13"
  },
  "orig_nbformat": 4
 },
 "nbformat": 4,
 "nbformat_minor": 2
}
