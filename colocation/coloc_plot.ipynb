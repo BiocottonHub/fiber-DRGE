{
 "cells": [
  {
   "cell_type": "code",
   "execution_count": 1,
   "metadata": {},
   "outputs": [
    {
     "name": "stderr",
     "output_type": "stream",
     "text": [
      "/public/home/zpliu/miniconda3/lib/python3.7/site-packages/ipykernel_launcher.py:14: DeprecationWarning: Using or importing the ABCs from 'collections' instead of from 'collections.abc' is deprecated since Python 3.3,and in 3.9 it will stop working\n",
      "  \n"
     ]
    }
   ],
   "source": [
    "import pandas as pd\n",
    "import numpy as np\n",
    "import matplotlib as mpl\n",
    "import matplotlib.pyplot as plt\n",
    "import matplotlib.ticker as ticker\n",
    "import matplotlib.patches as patches\n",
    "import seaborn as sns\n",
    "import argparse\n",
    "import subprocess\n",
    "import os\n",
    "import io\n",
    "import gzip\n",
    "import re\n",
    "from collections import Iterable"
   ]
  },
  {
   "cell_type": "code",
   "execution_count": 5,
   "metadata": {},
   "outputs": [],
   "source": [
    "#----------------------------------------------------------------\n",
    "#! 分析1M范围内其他SNP与Top Variant的连锁度\n",
    "#----------------------------------------------------------------\n",
    "genotypeFile=/data/cotton/MaojunWang/WMJ_fiberFullPopulationRNAseq/fastlmm_eQTLs_V2/0DPA/0DPA_FastGENE\n",
    "!plink --bfile ${genotypeFile} --r2 --ld-snp  SNP224  --ld-window-kb 1000 --ld-window 99999 --ld-window-r2 0"
   ]
  },
  {
   "cell_type": "code",
   "execution_count": 6,
   "metadata": {},
   "outputs": [],
   "source": [
    "GWAS_data=pd.read_csv(\"~/../yjwang/zpliu/0DPA/output/Ghir_A01G000740-Ghir_D01G000710_out\",header=0,index_col=0,sep=\"\\t\")\n",
    "eQTL_data=pd.read_csv(\"../fastlmm_eGene/0DPA/output/Ghir_A01G000740-Ghir_D01G000710_At_out\",header=0,index_col=0,sep=\"\\t\")\n",
    "GWAS_data=GWAS_data[['Chromosome','Position','Pvalue']]\n",
    "GWAS_data.columns=['chr','position','pval_nominal']\n",
    "GWAS_data=GWAS_data.loc[GWAS_data['chr']==1]\n",
    "eQTL_data=eQTL_data[[\"Chromosome\",\"Position\",\"Pvalue\"]]\n",
    "eQTL_data.columns=['chr','position','pval_nominal']\n",
    "eQTL_data=eQTL_data.loc[eQTL_data['chr']==1]\n",
    "#! SNP 间的连锁不平衡值\n",
    "r2_s=pd.read_csv(\"./plink.ld\",header=0,index_col=5,sep=\"\\s+\").T.loc['R2']\n",
    "pvals=[GWAS_data]\n",
    "# pvals=[GWAS_data,eQTL_data]\n",
    "#-------------------------\n",
    "#! 两个GWAS中最小的top-Variant\n",
    "#-------------------------\n",
    "variant_ids=['SNP226']\n",
    "#* 获取top-Variant的坐标\n",
    "chrom, pos = pvals[0].loc[variant_ids[0], ['chr', 'position']]\n",
    "pos = int(pos)\n",
    "#----------------------------------\n",
    "\n",
    "#----------------------------------\n",
    "\n"
   ]
  },
  {
   "cell_type": "code",
   "execution_count": 3,
   "metadata": {},
   "outputs": [
    {
     "data": {
      "text/html": [
       "<div>\n",
       "<style scoped>\n",
       "    .dataframe tbody tr th:only-of-type {\n",
       "        vertical-align: middle;\n",
       "    }\n",
       "\n",
       "    .dataframe tbody tr th {\n",
       "        vertical-align: top;\n",
       "    }\n",
       "\n",
       "    .dataframe thead th {\n",
       "        text-align: right;\n",
       "    }\n",
       "</style>\n",
       "<table border=\"1\" class=\"dataframe\">\n",
       "  <thead>\n",
       "    <tr style=\"text-align: right;\">\n",
       "      <th></th>\n",
       "      <th>chr</th>\n",
       "      <th>position</th>\n",
       "      <th>pval_nominal</th>\n",
       "    </tr>\n",
       "    <tr>\n",
       "      <th>SNP</th>\n",
       "      <th></th>\n",
       "      <th></th>\n",
       "      <th></th>\n",
       "    </tr>\n",
       "  </thead>\n",
       "  <tbody>\n",
       "  </tbody>\n",
       "</table>\n",
       "</div>"
      ],
      "text/plain": [
       "Empty DataFrame\n",
       "Columns: [chr, position, pval_nominal]\n",
       "Index: []"
      ]
     },
     "execution_count": 3,
     "metadata": {},
     "output_type": "execute_result"
    }
   ],
   "source": [
    "GWAS_data"
   ]
  },
  {
   "cell_type": "code",
   "execution_count": 7,
   "metadata": {},
   "outputs": [
    {
     "data": {
      "image/png": "[encoded data removed]",
      "text/plain": [
       "<Figure size 432x288 with 2 Axes>"
      ]
     },
     "metadata": {
      "needs_background": "light"
     },
     "output_type": "display_data"
    }
   ],
   "source": [
    " # set up figure\n",
    "n = len(pvals)\n",
    "dl=0.75\n",
    "aw=4\n",
    "dr=0.75\n",
    "db=0.5\n",
    "ah=1.25\n",
    "dt=0.25\n",
    "ds=0.05\n",
    "gh=0.2\n",
    "th=1.5\n",
    "db = 0.25\n",
    "dt = 0.5\n",
    "\n",
    "fw = dl + aw + dr  #* 图片宽度\n",
    "fh = db + n*ah + (n-1)*ds + dt  #* 图片高度\n",
    "gh = 0\n",
    "#* 增加刻度线的高度\n",
    "fh += th + ds \n",
    "fig = plt.figure(figsize=(6,4),frameon=False)\n",
    "axes = [fig.add_axes([dl/fw, (fh-dt-ah)/fh, aw/fw, ah/fh])]\n",
    "for i in range(1,n):\n",
    "    axes.append(fig.add_axes([dl/fw, (fh-dt-ah-i*(ah+ds))/fh, aw/fw, ah/fh], sharex=axes[0]))\n",
    "\n",
    "\n",
    "xlim = np.array([pos-200000, pos+200000])\n",
    "axes[0].set_xlim(xlim)\n",
    "axes[0].xaxis.set_major_locator(ticker.MaxNLocator(min_n_ticks=3, nbins=4))\n",
    "# LocusZoom colors\n",
    "lz_colors = [\"#7F7F7F\", \"#282973\", \"#8CCCF0\", \"#69BD45\",\"#F9A41A\", \"#ED1F24\"]\n",
    "select_args = {'s':24, 'marker':'D', 'c':\"#714A9D\", 'edgecolor':'k', 'lw':0.25}\n",
    "highlight_args = {'s':24, 'marker':'D', 'edgecolor':'k', 'lw':0.25}\n",
    "cmap = mpl.colors.ListedColormap(lz_colors)\n",
    "# bounds = np.append(-1, np.arange(0,1.2,0.2)) # R2 范围在0-0.9之间\n",
    "bounds = np.append(-1, np.array([0. , 0.3, 0.6, 0.9, 1.2 ])) # R2 范围在0-0.9之间\n",
    "norm = mpl.colors.BoundaryNorm(bounds, cmap.N)\n",
    "\n",
    "#* 设置图例\n",
    "s = 0.66\n",
    "cax = fig.add_axes([(dl+aw+0.1)/fw, (fh-dt-ah+(1-s)/2*ah)/fh, s*ah/5/fw, s*ah/fh])\n",
    "cb = mpl.colorbar.ColorbarBase(cax, cmap=cmap,\n",
    "                                norm=norm,\n",
    "                                boundaries=bounds[1:],  # start at 0\n",
    "                                ticks=bounds,\n",
    "                                spacing='proportional',\n",
    "                                orientation='vertical')\n",
    "cax.set_title('r$\\mathregular{^2}$', fontsize=12)\n",
    "\n",
    "\n",
    "# common set of variants 两个数据集中共有的变异\n",
    "common_ix = pvals[0].index\n",
    "for pval_df in pvals[1:]:\n",
    "    common_ix = common_ix[common_ix.isin(pval_df.index)]\n",
    "\n",
    "\n",
    "for k,(ax,variant_id,pval_df) in enumerate(zip(axes, variant_ids, pvals)):\n",
    "    # select variants in window\n",
    "    m = (pval_df['position']>=xlim[0]) & (pval_df['position']<=xlim[1])\n",
    "    window_df = pval_df.loc[m]\n",
    "    #* X轴和y轴的值\n",
    "    x = window_df['position']  \n",
    "    p = -np.log10(window_df['pval_nominal'])\n",
    "    minp = -np.log10(pval_df.loc[variant_id, 'pval_nominal'])\n",
    "    #* 绘制R2数据\n",
    "    s = r2_s[window_df.index].sort_values().index\n",
    "    r2 = r2_s[s].replace(np.NaN, -1)\n",
    "    #* 绘制散点图\n",
    "    ax.scatter(x[s], p[s], c=r2, s=20, cmap=cmap, norm=norm, edgecolor='k', lw=0.25, rasterized=False)\n",
    "    #* 显示lead SNP位置 \n",
    "    minpos = pval_df.loc[variant_id, 'position']\n",
    "    ax.scatter(minpos, minp, **select_args)\n",
    "    t = variant_id\n",
    "    if (minpos-xlim[0])/(xlim[1]-xlim[0]) < 0.55:  # right\n",
    "        txt = ax.annotate(t, (minpos, minp), xytext=(5,5), textcoords='offset points')\n",
    "    else:\n",
    "        txt = ax.annotate(t, (minpos, minp), xytext=(-5,5), ha='right', textcoords='offset points')\n",
    "    txt.set_bbox(dict(facecolor='w', alpha=0.5, edgecolor='none', boxstyle=\"round,pad=0.1\")) #* 添加背景\n",
    "    ymax=None\n",
    "for k,ax in enumerate(axes):\n",
    "        ax.margins(y=0.2)\n",
    "        if ymax is None:\n",
    "            ax.set_ylim([0, ax.get_ylim()[1]])\n",
    "        else:\n",
    "            ax.set_ylim([0, ymax[k]])\n",
    "for ax in axes:\n",
    "        ax.yaxis.set_major_locator(ticker.MaxNLocator(integer=True, min_n_ticks=3, nbins=4))\n",
    "        ax.margins(y=0.1)\n",
    "        ax.set_facecolor('none') \n",
    "\n",
    "        \n",
    "# fig.text(0.035, 0.65, '-log$\\mathregular{_{10}}$(p-value)', va='center', rotation=90, fontsize=14)\n",
    "# # plt.tight_layout() ## tight arranged\n",
    "# plt.savefig(\"./Ghir_A05G000590-Ghir_D05G000730.pdf\",dpi=600,bbox_inches=\"tight\")\n",
    "# plt.show()    "
   ]
  },
  {
   "cell_type": "code",
   "execution_count": 10,
   "metadata": {},
   "outputs": [
    {
     "data": {
      "text/plain": [
       "array([0. , 0.3, 0.6, 0.9])"
      ]
     },
     "execution_count": 10,
     "metadata": {},
     "output_type": "execute_result"
    }
   ],
   "source": [
    "np.arange(0,1,0.3)"
   ]
  }
 ],
 "metadata": {
  "interpreter": {
   "hash": "318ad115214a4af8ad6e18cfd3e37d64f0b71b2b9c6fe5b42ddec07479e8947a"
  },
  "kernelspec": {
   "display_name": "Python 3.7.7 64-bit ('miniconda3': virtualenv)",
   "name": "python3"
  },
  "language_info": {
   "codemirror_mode": {
    "name": "ipython",
    "version": 3
   },
   "file_extension": ".py",
   "mimetype": "text/x-python",
   "name": "python",
   "nbconvert_exporter": "python",
   "pygments_lexer": "ipython3",
   "version": "3.7.7"
  },
  "orig_nbformat": 4
 },
 "nbformat": 4,
 "nbformat_minor": 2
}
