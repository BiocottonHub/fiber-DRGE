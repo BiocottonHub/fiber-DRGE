{
 "cells": [
  {
   "cell_type": "code",
   "execution_count": 1,
   "metadata": {},
   "outputs": [
    {
     "name": "stderr",
     "output_type": "stream",
     "text": [
      "\n",
      "Attaching package: ‘dplyr’\n",
      "\n",
      "\n",
      "The following objects are masked from ‘package:stats’:\n",
      "\n",
      "    filter, lag\n",
      "\n",
      "\n",
      "The following objects are masked from ‘package:base’:\n",
      "\n",
      "    intersect, setdiff, setequal, union\n",
      "\n",
      "\n"
     ]
    }
   ],
   "source": [
    "library(dplyr)\n",
    "library(tidyr)"
   ]
  },
  {
   "cell_type": "code",
   "execution_count": 3,
   "metadata": {},
   "outputs": [
    {
     "data": {
      "text/html": [
       "<table class=\"dataframe\">\n",
       "<caption>A data.frame: 6 × 7</caption>\n",
       "<thead>\n",
       "\t<tr><th></th><th scope=col>stage</th><th scope=col>eGene</th><th scope=col>transVariant</th><th scope=col>cisVariant</th><th scope=col>randomSNP</th><th scope=col>realCor</th><th scope=col>randomCor</th></tr>\n",
       "\t<tr><th></th><th scope=col>&lt;fct&gt;</th><th scope=col>&lt;fct&gt;</th><th scope=col>&lt;fct&gt;</th><th scope=col>&lt;fct&gt;</th><th scope=col>&lt;fct&gt;</th><th scope=col>&lt;dbl&gt;</th><th scope=col>&lt;dbl&gt;</th></tr>\n",
       "</thead>\n",
       "<tbody>\n",
       "\t<tr><th scope=row>1</th><td>0DPA</td><td>Ghir_A01G000700</td><td>SNP170274 </td><td>SNP118</td><td>SNP1480141</td><td> 0.9172327</td><td>-0.0208758952</td></tr>\n",
       "\t<tr><th scope=row>2</th><td>0DPA</td><td>Ghir_A01G000700</td><td>SNP170274 </td><td>SNP172</td><td>SNP1486297</td><td>-0.3342120</td><td>-0.0359792929</td></tr>\n",
       "\t<tr><th scope=row>3</th><td>0DPA</td><td>Ghir_A01G000750</td><td>SNP170283 </td><td>SNP222</td><td>SNP1347183</td><td> 0.6828086</td><td> 0.1488801788</td></tr>\n",
       "\t<tr><th scope=row>4</th><td>0DPA</td><td>Ghir_A01G000940</td><td>SNP170274 </td><td>SNP331</td><td>SNP1974859</td><td>-0.3284709</td><td>-0.0323418627</td></tr>\n",
       "\t<tr><th scope=row>5</th><td>0DPA</td><td>Ghir_A01G000970</td><td>SNP170270 </td><td>SNP525</td><td>SNP1525035</td><td> 0.8979658</td><td> 0.0005320345</td></tr>\n",
       "\t<tr><th scope=row>6</th><td>0DPA</td><td>Ghir_A01G001190</td><td>SNP1930261</td><td>SNP604</td><td>SNP2015164</td><td> 0.2440031</td><td> 0.1260892274</td></tr>\n",
       "</tbody>\n",
       "</table>\n"
      ],
      "text/latex": [
       "A data.frame: 6 × 7\n",
       "\\begin{tabular}{r|lllllll}\n",
       "  & stage & eGene & transVariant & cisVariant & randomSNP & realCor & randomCor\\\\\n",
       "  & <fct> & <fct> & <fct> & <fct> & <fct> & <dbl> & <dbl>\\\\\n",
       "\\hline\n",
       "\t1 & 0DPA & Ghir\\_A01G000700 & SNP170274  & SNP118 & SNP1480141 &  0.9172327 & -0.0208758952\\\\\n",
       "\t2 & 0DPA & Ghir\\_A01G000700 & SNP170274  & SNP172 & SNP1486297 & -0.3342120 & -0.0359792929\\\\\n",
       "\t3 & 0DPA & Ghir\\_A01G000750 & SNP170283  & SNP222 & SNP1347183 &  0.6828086 &  0.1488801788\\\\\n",
       "\t4 & 0DPA & Ghir\\_A01G000940 & SNP170274  & SNP331 & SNP1974859 & -0.3284709 & -0.0323418627\\\\\n",
       "\t5 & 0DPA & Ghir\\_A01G000970 & SNP170270  & SNP525 & SNP1525035 &  0.8979658 &  0.0005320345\\\\\n",
       "\t6 & 0DPA & Ghir\\_A01G001190 & SNP1930261 & SNP604 & SNP2015164 &  0.2440031 &  0.1260892274\\\\\n",
       "\\end{tabular}\n"
      ],
      "text/markdown": [
       "\n",
       "A data.frame: 6 × 7\n",
       "\n",
       "| <!--/--> | stage &lt;fct&gt; | eGene &lt;fct&gt; | transVariant &lt;fct&gt; | cisVariant &lt;fct&gt; | randomSNP &lt;fct&gt; | realCor &lt;dbl&gt; | randomCor &lt;dbl&gt; |\n",
       "|---|---|---|---|---|---|---|---|\n",
       "| 1 | 0DPA | Ghir_A01G000700 | SNP170274  | SNP118 | SNP1480141 |  0.9172327 | -0.0208758952 |\n",
       "| 2 | 0DPA | Ghir_A01G000700 | SNP170274  | SNP172 | SNP1486297 | -0.3342120 | -0.0359792929 |\n",
       "| 3 | 0DPA | Ghir_A01G000750 | SNP170283  | SNP222 | SNP1347183 |  0.6828086 |  0.1488801788 |\n",
       "| 4 | 0DPA | Ghir_A01G000940 | SNP170274  | SNP331 | SNP1974859 | -0.3284709 | -0.0323418627 |\n",
       "| 5 | 0DPA | Ghir_A01G000970 | SNP170270  | SNP525 | SNP1525035 |  0.8979658 |  0.0005320345 |\n",
       "| 6 | 0DPA | Ghir_A01G001190 | SNP1930261 | SNP604 | SNP2015164 |  0.2440031 |  0.1260892274 |\n",
       "\n"
      ],
      "text/plain": [
       "  stage eGene           transVariant cisVariant randomSNP  realCor   \n",
       "1 0DPA  Ghir_A01G000700 SNP170274    SNP118     SNP1480141  0.9172327\n",
       "2 0DPA  Ghir_A01G000700 SNP170274    SNP172     SNP1486297 -0.3342120\n",
       "3 0DPA  Ghir_A01G000750 SNP170283    SNP222     SNP1347183  0.6828086\n",
       "4 0DPA  Ghir_A01G000940 SNP170274    SNP331     SNP1974859 -0.3284709\n",
       "5 0DPA  Ghir_A01G000970 SNP170270    SNP525     SNP1525035  0.8979658\n",
       "6 0DPA  Ghir_A01G001190 SNP1930261   SNP604     SNP2015164  0.2440031\n",
       "  randomCor    \n",
       "1 -0.0208758952\n",
       "2 -0.0359792929\n",
       "3  0.1488801788\n",
       "4 -0.0323418627\n",
       "5  0.0005320345\n",
       "6  0.1260892274"
      ]
     },
     "metadata": {},
     "output_type": "display_data"
    }
   ],
   "source": [
    "cis_trans_regulate_sameGene=read.table(\"./cis_trans_regulate_same_gene.txt\",header=T)\n",
    "head(cis_trans_regulate_sameGene)"
   ]
  },
  {
   "cell_type": "code",
   "execution_count": 8,
   "metadata": {},
   "outputs": [
    {
     "data": {
      "text/html": [
       "<table class=\"dataframe\">\n",
       "<caption>A data.frame: 6 × 2</caption>\n",
       "<thead>\n",
       "\t<tr><th scope=col>stage</th><th scope=col>n</th></tr>\n",
       "\t<tr><th scope=col>&lt;fct&gt;</th><th scope=col>&lt;int&gt;</th></tr>\n",
       "</thead>\n",
       "<tbody>\n",
       "\t<tr><td>0DPA </td><td>2426</td></tr>\n",
       "\t<tr><td>12DPA</td><td>3742</td></tr>\n",
       "\t<tr><td>16DPA</td><td>2080</td></tr>\n",
       "\t<tr><td>20DPA</td><td>1894</td></tr>\n",
       "\t<tr><td>4DPA </td><td>2311</td></tr>\n",
       "\t<tr><td>8DPA </td><td>2482</td></tr>\n",
       "</tbody>\n",
       "</table>\n"
      ],
      "text/latex": [
       "A data.frame: 6 × 2\n",
       "\\begin{tabular}{ll}\n",
       " stage & n\\\\\n",
       " <fct> & <int>\\\\\n",
       "\\hline\n",
       "\t 0DPA  & 2426\\\\\n",
       "\t 12DPA & 3742\\\\\n",
       "\t 16DPA & 2080\\\\\n",
       "\t 20DPA & 1894\\\\\n",
       "\t 4DPA  & 2311\\\\\n",
       "\t 8DPA  & 2482\\\\\n",
       "\\end{tabular}\n"
      ],
      "text/markdown": [
       "\n",
       "A data.frame: 6 × 2\n",
       "\n",
       "| stage &lt;fct&gt; | n &lt;int&gt; |\n",
       "|---|---|\n",
       "| 0DPA  | 2426 |\n",
       "| 12DPA | 3742 |\n",
       "| 16DPA | 2080 |\n",
       "| 20DPA | 1894 |\n",
       "| 4DPA  | 2311 |\n",
       "| 8DPA  | 2482 |\n",
       "\n"
      ],
      "text/plain": [
       "  stage n   \n",
       "1 0DPA  2426\n",
       "2 12DPA 3742\n",
       "3 16DPA 2080\n",
       "4 20DPA 1894\n",
       "5 4DPA  2311\n",
       "6 8DPA  2482"
      ]
     },
     "metadata": {},
     "output_type": "display_data"
    }
   ],
   "source": [
    "#* 统计存在的SNPs数目\n",
    "cis_trans_regulate_sameGene %>% count(stage)"
   ]
  },
  {
   "cell_type": "code",
   "execution_count": 13,
   "metadata": {},
   "outputs": [
    {
     "name": "stdout",
     "output_type": "stream",
     "text": [
      "[1] \"0DPA\"\n",
      "\n",
      "\tWilcoxon rank sum test with continuity correction\n",
      "\n",
      "data:  abs(filterData$realCor) and abs(filterData$randomCor)\n",
      "W = 4976909, p-value < 2.2e-16\n",
      "alternative hypothesis: true location shift is not equal to 0\n",
      "\n",
      "[1] \"4DPA\"\n",
      "\n",
      "\tWilcoxon rank sum test with continuity correction\n",
      "\n",
      "data:  abs(filterData$realCor) and abs(filterData$randomCor)\n",
      "W = 4627230, p-value < 2.2e-16\n",
      "alternative hypothesis: true location shift is not equal to 0\n",
      "\n",
      "[1] \"8DPA\"\n",
      "\n",
      "\tWilcoxon rank sum test with continuity correction\n",
      "\n",
      "data:  abs(filterData$realCor) and abs(filterData$randomCor)\n",
      "W = 5382388, p-value < 2.2e-16\n",
      "alternative hypothesis: true location shift is not equal to 0\n",
      "\n",
      "[1] \"12DPA\"\n",
      "\n",
      "\tWilcoxon rank sum test with continuity correction\n",
      "\n",
      "data:  abs(filterData$realCor) and abs(filterData$randomCor)\n",
      "W = 10821658, p-value < 2.2e-16\n",
      "alternative hypothesis: true location shift is not equal to 0\n",
      "\n",
      "[1] \"16DPA\"\n",
      "\n",
      "\tWilcoxon rank sum test with continuity correction\n",
      "\n",
      "data:  abs(filterData$realCor) and abs(filterData$randomCor)\n",
      "W = 3736202, p-value < 2.2e-16\n",
      "alternative hypothesis: true location shift is not equal to 0\n",
      "\n",
      "[1] \"20DPA\"\n",
      "\n",
      "\tWilcoxon rank sum test with continuity correction\n",
      "\n",
      "data:  abs(filterData$realCor) and abs(filterData$randomCor)\n",
      "W = 3131600, p-value < 2.2e-16\n",
      "alternative hypothesis: true location shift is not equal to 0\n",
      "\n"
     ]
    }
   ],
   "source": [
    "for(selectedStage in c(\"0DPA\",\"4DPA\",\"8DPA\",\"12DPA\",\"16DPA\",\"20DPA\")){\n",
    "    filterData=cis_trans_regulate_sameGene%>% filter(stage==selectedStage)\n",
    "    print(selectedStage)\n",
    "    print(wilcox.test(abs(filterData$realCor),abs(filterData$randomCor)))\n",
    "}"
   ]
  },
  {
   "cell_type": "code",
   "execution_count": 159,
   "metadata": {},
   "outputs": [],
   "source": [
    "plotData <- cis_trans_regulate_sameGene %>% pivot_longer(\n",
    "    cols = c(\"realCor\", \"randomCor\"),\n",
    "    values_to = \"cor\",\n",
    "    names_to = \"SNPType\"\n",
    "    )\n",
    "plotData$stage=factor(plotData$stage,levels = c('0DPA','4DPA','8DPA','12DPA','16DPA','20DPA'))    "
   ]
  },
  {
   "cell_type": "code",
   "execution_count": 162,
   "metadata": {},
   "outputs": [
    {
     "data": {
      "text/html": [
       "<strong>png:</strong> 2"
      ],
      "text/latex": [
       "\\textbf{png:} 2"
      ],
      "text/markdown": [
       "**png:** 2"
      ],
      "text/plain": [
       "png \n",
       "  2 "
      ]
     },
     "metadata": {},
     "output_type": "display_data"
    },
    {
     "data": {
      "image/png": "[encoded data removed]",
      "text/plain": [
       "plot without title"
      ]
     },
     "metadata": {
      "image/png": {
       "height": 420,
       "width": 420
      }
     },
     "output_type": "display_data"
    }
   ],
   "source": [
    "p <- plotData %>% ggplot(aes(x = stage, y = abs(cor))) +\n",
    "    geom_boxplot(\n",
    "        aes(fill = SNPType),\n",
    "        outlier.colour = NA\n",
    "    ) +\n",
    "    theme_classic() +\n",
    "    base_theme +\n",
    "    xlab(\"Correlation (abs.)\") +\n",
    "    ylab(\"\") +\n",
    "    scale_fill_manual(\n",
    "        values = c(\"#cc5b28\", \"#2d9ccc\")\n",
    "    )\n",
    "pdf(\"cis_trans_sameGene_cor.pdf\")\n",
    "print(p)\n",
    "dev.off()\n",
    "p"
   ]
  },
  {
   "cell_type": "markdown",
   "metadata": {},
   "source": [
    "### TODO 分析随机挑选SNP在cis-eQTL中的富集情况"
   ]
  },
  {
   "cell_type": "code",
   "execution_count": 2,
   "metadata": {},
   "outputs": [],
   "source": [
    "library(ggplot2)"
   ]
  },
  {
   "cell_type": "code",
   "execution_count": 3,
   "metadata": {},
   "outputs": [
    {
     "data": {
      "text/html": [
       "<table class=\"dataframe\">\n",
       "<caption>A grouped_df: 6 × 8</caption>\n",
       "<thead>\n",
       "\t<tr><th scope=col>stage</th><th scope=col>randomId</th><th scope=col>oddRatio</th><th scope=col>pval</th><th scope=col>oddMin</th><th scope=col>meanOdd</th><th scope=col>oddMax</th><th scope=col>meanPval</th></tr>\n",
       "\t<tr><th scope=col>&lt;fct&gt;</th><th scope=col>&lt;int&gt;</th><th scope=col>&lt;dbl&gt;</th><th scope=col>&lt;dbl&gt;</th><th scope=col>&lt;dbl&gt;</th><th scope=col>&lt;dbl&gt;</th><th scope=col>&lt;dbl&gt;</th><th scope=col>&lt;dbl&gt;</th></tr>\n",
       "</thead>\n",
       "<tbody>\n",
       "\t<tr><td>0DPA </td><td>1</td><td>1.488081</td><td>3.637607e-11</td><td>1.329275</td><td>1.447498</td><td>1.527471</td><td>2.152126e-07</td></tr>\n",
       "\t<tr><td>4DPA </td><td>1</td><td>1.378988</td><td>9.240415e-08</td><td>1.287282</td><td>1.372850</td><td>1.484050</td><td>4.161213e-06</td></tr>\n",
       "\t<tr><td>8DPA </td><td>1</td><td>1.477444</td><td>5.444230e-11</td><td>1.401607</td><td>1.488641</td><td>1.562099</td><td>1.335002e-09</td></tr>\n",
       "\t<tr><td>12DPA</td><td>1</td><td>1.202474</td><td>1.268627e-03</td><td>1.052955</td><td>1.142617</td><td>1.214588</td><td>6.088328e-02</td></tr>\n",
       "\t<tr><td>16DPA</td><td>1</td><td>1.570684</td><td>5.054794e-13</td><td>1.360472</td><td>1.550719</td><td>1.642747</td><td>7.478727e-08</td></tr>\n",
       "\t<tr><td>20DPA</td><td>1</td><td>1.546616</td><td>9.804155e-12</td><td>1.313364</td><td>1.446457</td><td>1.554412</td><td>1.645200e-06</td></tr>\n",
       "</tbody>\n",
       "</table>\n"
      ],
      "text/latex": [
       "A grouped\\_df: 6 × 8\n",
       "\\begin{tabular}{llllllll}\n",
       " stage & randomId & oddRatio & pval & oddMin & meanOdd & oddMax & meanPval\\\\\n",
       " <fct> & <int> & <dbl> & <dbl> & <dbl> & <dbl> & <dbl> & <dbl>\\\\\n",
       "\\hline\n",
       "\t 0DPA  & 1 & 1.488081 & 3.637607e-11 & 1.329275 & 1.447498 & 1.527471 & 2.152126e-07\\\\\n",
       "\t 4DPA  & 1 & 1.378988 & 9.240415e-08 & 1.287282 & 1.372850 & 1.484050 & 4.161213e-06\\\\\n",
       "\t 8DPA  & 1 & 1.477444 & 5.444230e-11 & 1.401607 & 1.488641 & 1.562099 & 1.335002e-09\\\\\n",
       "\t 12DPA & 1 & 1.202474 & 1.268627e-03 & 1.052955 & 1.142617 & 1.214588 & 6.088328e-02\\\\\n",
       "\t 16DPA & 1 & 1.570684 & 5.054794e-13 & 1.360472 & 1.550719 & 1.642747 & 7.478727e-08\\\\\n",
       "\t 20DPA & 1 & 1.546616 & 9.804155e-12 & 1.313364 & 1.446457 & 1.554412 & 1.645200e-06\\\\\n",
       "\\end{tabular}\n"
      ],
      "text/markdown": [
       "\n",
       "A grouped_df: 6 × 8\n",
       "\n",
       "| stage &lt;fct&gt; | randomId &lt;int&gt; | oddRatio &lt;dbl&gt; | pval &lt;dbl&gt; | oddMin &lt;dbl&gt; | meanOdd &lt;dbl&gt; | oddMax &lt;dbl&gt; | meanPval &lt;dbl&gt; |\n",
       "|---|---|---|---|---|---|---|---|\n",
       "| 0DPA  | 1 | 1.488081 | 3.637607e-11 | 1.329275 | 1.447498 | 1.527471 | 2.152126e-07 |\n",
       "| 4DPA  | 1 | 1.378988 | 9.240415e-08 | 1.287282 | 1.372850 | 1.484050 | 4.161213e-06 |\n",
       "| 8DPA  | 1 | 1.477444 | 5.444230e-11 | 1.401607 | 1.488641 | 1.562099 | 1.335002e-09 |\n",
       "| 12DPA | 1 | 1.202474 | 1.268627e-03 | 1.052955 | 1.142617 | 1.214588 | 6.088328e-02 |\n",
       "| 16DPA | 1 | 1.570684 | 5.054794e-13 | 1.360472 | 1.550719 | 1.642747 | 7.478727e-08 |\n",
       "| 20DPA | 1 | 1.546616 | 9.804155e-12 | 1.313364 | 1.446457 | 1.554412 | 1.645200e-06 |\n",
       "\n"
      ],
      "text/plain": [
       "  stage randomId oddRatio pval         oddMin   meanOdd  oddMax   meanPval    \n",
       "1 0DPA  1        1.488081 3.637607e-11 1.329275 1.447498 1.527471 2.152126e-07\n",
       "2 4DPA  1        1.378988 9.240415e-08 1.287282 1.372850 1.484050 4.161213e-06\n",
       "3 8DPA  1        1.477444 5.444230e-11 1.401607 1.488641 1.562099 1.335002e-09\n",
       "4 12DPA 1        1.202474 1.268627e-03 1.052955 1.142617 1.214588 6.088328e-02\n",
       "5 16DPA 1        1.570684 5.054794e-13 1.360472 1.550719 1.642747 7.478727e-08\n",
       "6 20DPA 1        1.546616 9.804155e-12 1.313364 1.446457 1.554412 1.645200e-06"
      ]
     },
     "metadata": {},
     "output_type": "display_data"
    }
   ],
   "source": [
    "#-------------------------------------------------------\n",
    "#* 分析随机挑选SNP在cis-eQTL中的富集情况\n",
    "# ? 每次random与真实值进行比较，就获得了odd值的相应分布\n",
    "#-------------------------------------------------------\n",
    "\n",
    "plotData <- c()\n",
    "pvalList <- c()\n",
    "\n",
    "for (stage in c(\"0DPA\", \"4DPA\", \"8DPA\", \"12DPA\", \"16DPA\", \"20DPA\")) {\n",
    "    randomData <- read.table(paste(\n",
    "        \"./cis_mediation_trans_random/\", stage, \"_random_result.txt\",\n",
    "        sep = \"\"\n",
    "    ), header = T)\n",
    "    #* 每次随机状态下，随机SNP同时是cis-eQTL SNP的数目\n",
    "    randomData <- randomData %>%\n",
    "        mutate(cisGene = ifelse(cisVariant != \"-\", 1, 0)) %>%\n",
    "        group_by(randomId) %>%\n",
    "        count(\n",
    "            cisGene\n",
    "        )\n",
    "    realData <- read.table(paste(stage, \"_cis_mediant_transRegulate.txt\", sep = \"\"), header = T)\n",
    "    realData=realData %>% select(\n",
    "    c(transVariant,cisVariant)\n",
    "    ) %>% distinct()\n",
    "    realData <- realData %>%\n",
    "        mutate(cisGene = ifelse(cisVariant != \"-\", 1, 0)) %>%\n",
    "        count(cisGene)\n",
    "    for (i in seq(1, 10)) {\n",
    "        tmpData <- randomData %>% filter(randomId == i)\n",
    "        tmpData <- data.frame(tmpData)\n",
    "        odd <- fisher.test(\n",
    "            matrix(\n",
    "                c(realData[2, 2], realData[1, 2], tmpData[2, 3], tmpData[1, 3]),\n",
    "                nrow = 2\n",
    "            )\n",
    "        )\n",
    "        plotData <- c(plotData, odd$estimate)\n",
    "        pvalList <- c(pvalList, odd$p.value)\n",
    "    }\n",
    "}\n",
    "rawOddRatio=data.frame(\n",
    "    stage = rep(c(\"0DPA\", \"4DPA\", \"8DPA\", \"12DPA\", \"16DPA\", \"20DPA\"), each = 10),\n",
    "    randomId = rep(seq(1, 10), n = 6),\n",
    "    oddRatio = plotData,\n",
    "    pval = pvalList\n",
    ")\n",
    "plotData=rawOddRatio %>%\n",
    "    group_by(stage) %>%\n",
    "    mutate(oddMin = min(oddRatio),meanOdd = mean(oddRatio),oddMax = max(oddRatio),meanPval=mean(pval))\n",
    "plotData$stage=factor(plotData$stage,levels = c('0DPA','4DPA','8DPA','12DPA','16DPA','20DPA'))\n",
    "plotData %>% filter(randomId==1)"
   ]
  },
  {
   "cell_type": "code",
   "execution_count": 4,
   "metadata": {},
   "outputs": [
    {
     "data": {
      "text/html": [
       "<table class=\"dataframe\">\n",
       "<caption>A tibble: 6 × 2</caption>\n",
       "<thead>\n",
       "\t<tr><th scope=col>stage</th><th scope=col>mean(meanPval)</th></tr>\n",
       "\t<tr><th scope=col>&lt;fct&gt;</th><th scope=col>&lt;dbl&gt;</th></tr>\n",
       "</thead>\n",
       "<tbody>\n",
       "\t<tr><td>0DPA </td><td>2.152126e-07</td></tr>\n",
       "\t<tr><td>4DPA </td><td>4.161213e-06</td></tr>\n",
       "\t<tr><td>8DPA </td><td>1.335002e-09</td></tr>\n",
       "\t<tr><td>12DPA</td><td>6.088328e-02</td></tr>\n",
       "\t<tr><td>16DPA</td><td>7.478727e-08</td></tr>\n",
       "\t<tr><td>20DPA</td><td>1.645200e-06</td></tr>\n",
       "</tbody>\n",
       "</table>\n"
      ],
      "text/latex": [
       "A tibble: 6 × 2\n",
       "\\begin{tabular}{ll}\n",
       " stage & mean(meanPval)\\\\\n",
       " <fct> & <dbl>\\\\\n",
       "\\hline\n",
       "\t 0DPA  & 2.152126e-07\\\\\n",
       "\t 4DPA  & 4.161213e-06\\\\\n",
       "\t 8DPA  & 1.335002e-09\\\\\n",
       "\t 12DPA & 6.088328e-02\\\\\n",
       "\t 16DPA & 7.478727e-08\\\\\n",
       "\t 20DPA & 1.645200e-06\\\\\n",
       "\\end{tabular}\n"
      ],
      "text/markdown": [
       "\n",
       "A tibble: 6 × 2\n",
       "\n",
       "| stage &lt;fct&gt; | mean(meanPval) &lt;dbl&gt; |\n",
       "|---|---|\n",
       "| 0DPA  | 2.152126e-07 |\n",
       "| 4DPA  | 4.161213e-06 |\n",
       "| 8DPA  | 1.335002e-09 |\n",
       "| 12DPA | 6.088328e-02 |\n",
       "| 16DPA | 7.478727e-08 |\n",
       "| 20DPA | 1.645200e-06 |\n",
       "\n"
      ],
      "text/plain": [
       "  stage mean(meanPval)\n",
       "1 0DPA  2.152126e-07  \n",
       "2 4DPA  4.161213e-06  \n",
       "3 8DPA  1.335002e-09  \n",
       "4 12DPA 6.088328e-02  \n",
       "5 16DPA 7.478727e-08  \n",
       "6 20DPA 1.645200e-06  "
      ]
     },
     "metadata": {},
     "output_type": "display_data"
    }
   ],
   "source": [
    "plotData %>% group_by(stage) %>% summarise(mean(meanPval))"
   ]
  },
  {
   "cell_type": "code",
   "execution_count": 9,
   "metadata": {},
   "outputs": [
    {
     "data": {
      "text/html": [
       "<strong>png:</strong> 2"
      ],
      "text/latex": [
       "\\textbf{png:} 2"
      ],
      "text/markdown": [
       "**png:** 2"
      ],
      "text/plain": [
       "png \n",
       "  2 "
      ]
     },
     "metadata": {},
     "output_type": "display_data"
    },
    {
     "data": {
      "image/png": "[encoded data removed]",
      "text/plain": [
       "plot without title"
      ]
     },
     "metadata": {
      "image/png": {
       "height": 420,
       "width": 420
      }
     },
     "output_type": "display_data"
    }
   ],
   "source": [
    "p <- plotData %>%\n",
    "    filter(randomId == 1) %>%\n",
    "    ggplot(\n",
    "        aes(x = stage, y = meanOdd)\n",
    "    ) +\n",
    "    geom_bar(stat = \"identity\", fill = \"#2d9ccc\") +\n",
    "    geom_errorbar(\n",
    "        aes(ymin = oddMin, ymax = oddMax),\n",
    "        width = 0.2,\n",
    "        size = 1.2,\n",
    "    ) +\n",
    "    geom_point(\n",
    "        data=plotData,aes(x=stage,y=oddRatio),inherit.aes = FALSE,\n",
    "        size=1.5,\n",
    "    )+\n",
    "    geom_hline(\n",
    "        yintercept = 1,\n",
    "        linetype = \"dashed\", size = 1.2,\n",
    "        color = \"grey\"\n",
    "    ) +\n",
    "    theme_classic() +\n",
    "    base_theme +\n",
    "    scale_x_discrete(\n",
    "        expand = c(0.1, 0)\n",
    "    ) +\n",
    "    scale_y_continuous(\n",
    "        expand = c(0.01, 0)\n",
    "    ) +\n",
    "    ylab(\"Fold enrichment\") +\n",
    "    xlab(\"\")\n",
    "pdf(\"cis_mediate_trans_enrichment.pdf\")\n",
    "print(p)\n",
    "dev.off()\n",
    "p"
   ]
  },
  {
   "cell_type": "code",
   "execution_count": 103,
   "metadata": {},
   "outputs": [],
   "source": []
  }
 ],
 "metadata": {
  "kernelspec": {
   "display_name": "R 3.6",
   "language": "R",
   "name": "ir32"
  },
  "language_info": {
   "codemirror_mode": "r",
   "file_extension": ".r",
   "mimetype": "text/x-r-source",
   "name": "R",
   "pygments_lexer": "r",
   "version": "3.6.0"
  },
  "orig_nbformat": 4
 },
 "nbformat": 4,
 "nbformat_minor": 2
}
